{
 "cells": [
  {
   "cell_type": "code",
   "execution_count": 1,
   "metadata": {
    "collapsed": true
   },
   "outputs": [],
   "source": [
    "import numpy as np\n",
    "root = '../../'\n",
    "caffe_root = root + 'caffe/'  # this file is expected to be in {caffe_root}/examples\n",
    "import sys\n",
    "sys.path.insert(0, caffe_root + 'python')\n",
    "import caffe\n",
    "import os\n",
    "import random"
   ]
  },
  {
   "cell_type": "code",
   "execution_count": 2,
   "metadata": {
    "collapsed": false
   },
   "outputs": [],
   "source": [
    "DATA_DIR='../../dataset/i-LIDS/data/'\n",
    "file_list_a=os.listdir(DATA_DIR)"
   ]
  },
  {
   "cell_type": "code",
   "execution_count": 3,
   "metadata": {
    "collapsed": false
   },
   "outputs": [
    {
     "name": "stdout",
     "output_type": "stream",
     "text": [
      "119\n",
      "[['../../dataset/i-LIDS/data/0010001.jpg'], ['../../dataset/i-LIDS/data/0010002.jpg'], ['../../dataset/i-LIDS/data/0010003.jpg'], ['../../dataset/i-LIDS/data/0010004.jpg'], [], [], [], []]\n"
     ]
    }
   ],
   "source": [
    "name_dict={}\n",
    "for name in file_list_a:\n",
    "    if name[-3:]=='jpg':\n",
    "        id = name[:4]\n",
    "        view = int(name[4:7])\n",
    "        if not name_dict.has_key(id):\n",
    "            name_dict[id]=[]\n",
    "            name_dict[id].append([])\n",
    "            name_dict[id].append([])\n",
    "            name_dict[id].append([])\n",
    "            name_dict[id].append([])\n",
    "            name_dict[id].append([])\n",
    "            name_dict[id].append([])\n",
    "            name_dict[id].append([])\n",
    "            name_dict[id].append([])\n",
    "        name_dict[id][view-1].append(DATA_DIR+name)  \n",
    "\n",
    "print len(name_dict)\n",
    "print name_dict['0010']"
   ]
  },
  {
   "cell_type": "code",
   "execution_count": 4,
   "metadata": {
    "collapsed": false
   },
   "outputs": [
    {
     "name": "stdout",
     "output_type": "stream",
     "text": [
      "../../dataset/i-LIDS/exp_set/testid059_set01_test.txt\n",
      "59\n"
     ]
    }
   ],
   "source": [
    "# choose test ids:\n",
    "test_id_number = 59\n",
    "set_no = 1\n",
    "phase = 'test'\n",
    "filename_test = '../../dataset/i-LIDS/exp_set/testid%03d_set%02d_%s.txt'%(test_id_number,(set_no),phase)\n",
    "print filename_test\n",
    "\n",
    "file_object = open(filename_test)\n",
    "try:\n",
    "    all_the_text = file_object.read( )\n",
    "finally:\n",
    "    file_object.close( )\n",
    "\n",
    "test_dict = {}\n",
    "\n",
    "lines = all_the_text.split('\\n')\n",
    "for filename in lines:\n",
    "    if filename!='':\n",
    "        if name_dict.has_key(filename):\n",
    "            test_dict[filename] = name_dict[filename]\n",
    "print len(test_dict)"
   ]
  },
  {
   "cell_type": "code",
   "execution_count": 5,
   "metadata": {
    "collapsed": true
   },
   "outputs": [],
   "source": [
    "def readList(name_list,name_dict): \n",
    "    import random\n",
    "    import os\n",
    "    probes=[]\n",
    "    gallerys=[]\n",
    "    for key in name_list:\n",
    "        rand_view = random.randint(0,len(name_dict[key])-1)\n",
    "        #print rand_view,name_dict[key][rand_view]\n",
    "        while len(name_dict[key][rand_view])==0:\n",
    "            rand_view = random.randint(0,len(name_dict[key])-1)\n",
    "        \n",
    "        rand_view_pair = random.randint(0,len(name_dict[key])-1)\n",
    "        #print rand_view_pair,name_dict[key][rand_view_pair]\n",
    "        while len(name_dict[key][rand_view_pair])==0 or rand_view_pair == rand_view:\n",
    "            rand_view_pair = random.randint(0,len(name_dict[key])-1)\n",
    "        probes.append(name_dict[key][rand_view][0])\n",
    "        gallerys.append(name_dict[key][rand_view_pair][0])\n",
    "        \n",
    "    if len(probes)!=len(gallerys):\n",
    "        print('something wrong! list length does not match!/n')\n",
    "        return 0\n",
    "    else:\n",
    "        return probes,gallerys\n",
    "def generateScoreList(net,probes,gallerys):\n",
    "    transformer = caffe.io.Transformer({'data': (net.blobs['data'].data.shape)})\n",
    "    transformer.set_transpose('data', (2,0,1))\n",
    "    transformer.set_mean('data', np.array([ 104.00698793,  116.66876762,  122.67891434])) # mean pixel\n",
    "    transformer.set_raw_scale('data', 255)  # the reference model operates on images in [0,255] range instead of [0,1]\n",
    "    transformer.set_channel_swap('data', (2,1,0))  # the reference model has channels in BGR order instead of RGB\n",
    "    \n",
    "    scoreList=[]\n",
    "    N,C,H,W=net.blobs['data'].data.shape\n",
    "    from time import clock\n",
    "    start=clock()\n",
    "    #galleryData is same for each probe\n",
    "    galleryLen=len(gallerys)\n",
    "    galleryDataList=[]\n",
    "    for galleryIdx in range(galleryLen):\n",
    "        galleryName=gallerys[galleryIdx]\n",
    "        galleryImage=transformer.preprocess('data', caffe.io.load_image(galleryName))\n",
    "        galleryDataList.append(galleryImage)\n",
    "        galleryIdx+=1\n",
    "    #galleryData and probeData\n",
    "    galleryData=np.asarray(galleryDataList)\n",
    "    probeData=np.zeros((galleryLen,C,H,W))\n",
    "    \n",
    "    net.blobs['data'].reshape(galleryLen,C,H,W)\n",
    "    net.blobs['data_p'].reshape(galleryLen,C,H,W)\n",
    "    #process each probe\n",
    "    for probeIdx in range(len(probes)):\n",
    "        probeName=probes[probeIdx]\n",
    "        probeImage=transformer.preprocess('data', caffe.io.load_image(probeName))\n",
    "        #batch data assignment\n",
    "        probeData[:,:,:,:]=probeImage\n",
    "        net.blobs['data'].data[:] = probeData\n",
    "        net.blobs['data_p'].data[:] = galleryData\n",
    "        #net forwad\n",
    "        net.forward()\n",
    "        #get output score\n",
    "        outScore=net.blobs['softmax_score'].data[:,(0,1)]    #softmax_score[0] and softmax_score[1]\n",
    "        score_sum=np.exp(outScore[:,0]*1.0)+np.exp(outScore[:,1]*1.0)\n",
    "        similarScore=outScore[:,1]#np.exp(outScore[:,1]*1.0)/score_sum\n",
    "        #scoreList.append each probe score\n",
    "        scoreList.append(similarScore.tolist())\n",
    "        if (probeIdx+1)%10==0:\n",
    "            sys.stdout.write('\\r%3d/%d, '%(probeIdx+1,len(probes))+probeName)\n",
    "            sys.stdout.flush()\n",
    "    #we get scoreList, then cal predictLists\n",
    "    predictLists=[]\n",
    "    for score in scoreList:\n",
    "        probeRankList=np.argsort(score)[::-1]\n",
    "        predictLists.append(probeRankList)\n",
    "    finish=clock()\n",
    "    print('\\r  Processing %dx%d pairs cost %f second time'%(len(probes),len(gallerys),(finish-start)))\n",
    "    return scoreList,predictLists\n",
    "\n",
    "def calCMC(net,set_no,rand_times=10):\n",
    "    from cmc import evaluateCMC\n",
    "\n",
    "\n",
    "    #rand 10 times for stable result\n",
    "    cmc_list=[]\n",
    "    for i in range(rand_times):\n",
    "        print 'Round %d with rand list:'%i\n",
    "        probes,gallerys=readList(list_name)\n",
    "        scoreList,predictLists=generateScoreList(net,probes,gallerys)\n",
    "        gtLabels=range(len(probes))\n",
    "        cmc=evaluateCMC(gtLabels,predictLists)\n",
    "        cmc_list.append(cmc)\n",
    "    return np.average(cmc_list,axis=0)\n",
    "\n",
    "def getCVPRcmc():\n",
    "    #return the cmc values, 100 dim vetor\n",
    "    import numpy as np\n",
    "    cmcIndex=[0,4,8,12,16,21,25,29,33,37,41,45,49,53]\n",
    "    cmcOfCVPRImproved=[0.5474,0.8753,0.9293,0.9712,0.9764,0.9811,0.9899,0.9901,0.9912,0.9922,0.9937,0.9945,0.9951,1]\n",
    "    pOfCVPRImproved = np.poly1d(np.polyfit(cmcIndex,cmcOfCVPRImproved,10))\n",
    "    x_line=range(50)\n",
    "    cmc=pOfCVPRImproved(x_line)\n",
    "    return cmc\n"
   ]
  },
  {
   "cell_type": "code",
   "execution_count": 6,
   "metadata": {
    "collapsed": false
   },
   "outputs": [],
   "source": [
    "MODEL_FILE = '../../experiments/reid_earlyfusion_google_bigmap/set01/deploy.prototxt'\n",
    "PRETRAINED = '../../experiments/reid_earlyfusion/set01/Snapshots/set01_all_google_bigmap_iter_300000.caffemodel'\n",
    "caffe.set_device(0)\n",
    "caffe.set_mode_gpu()\n",
    "net = caffe.Classifier(MODEL_FILE, PRETRAINED,caffe.TEST)"
   ]
  },
  {
   "cell_type": "code",
   "execution_count": 7,
   "metadata": {
    "collapsed": false
   },
   "outputs": [
    {
     "name": "stdout",
     "output_type": "stream",
     "text": [
      "59\n"
     ]
    }
   ],
   "source": [
    "key_list = []\n",
    "for key in test_dict.keys():\n",
    "    key_list.append(key)\n",
    "\n",
    "key_list_shuffle = key_list[:]\n",
    "random.shuffle(key_list_shuffle)\n",
    "probes,gallerys=readList(key_list_shuffle[:],test_dict)\n",
    "print len(key_list)"
   ]
  },
  {
   "cell_type": "code",
   "execution_count": 8,
   "metadata": {
    "collapsed": true
   },
   "outputs": [],
   "source": [
    "from cmc import evaluateCMC\n",
    "cmcDict = {}"
   ]
  },
  {
   "cell_type": "code",
   "execution_count": 9,
   "metadata": {
    "collapsed": false,
    "scrolled": true
   },
   "outputs": [
    {
     "name": "stdout",
     "output_type": "stream",
     "text": [
      "  Processing 59x59 pairs cost 13.708461 second time\n",
      "  Processing 59x59 pairs cost 13.336753 second time\n",
      "  Processing 59x59 pairs cost 13.283191 second time\n"
     ]
    }
   ],
   "source": [
    "cmc_list=[]\n",
    "from cmc import evaluateCMC\n",
    "for i in range(3):\n",
    "    key_list_shuffle = key_list[:]\n",
    "    random.shuffle(key_list_shuffle)\n",
    "    probes,gallerys=readList(key_list_shuffle[:59],name_dict)\n",
    "    scoreList,predictLists=generateScoreList(net,probes,gallerys)\n",
    "    gtLabels=range(len(probes))\n",
    "    cmc=evaluateCMC(gtLabels,predictLists)\n",
    "    cmc_list.append(cmc)"
   ]
  },
  {
   "cell_type": "code",
   "execution_count": 10,
   "metadata": {
    "collapsed": false
   },
   "outputs": [
    {
     "data": {
      "text/plain": [
       "array([ 0.57062147,  0.71751412,  0.7740113 ,  0.82485876,  0.8700565 ,\n",
       "        0.89265537,  0.91525424,  0.91525424,  0.92090395,  0.93220339,\n",
       "        0.94350282,  0.94915254,  0.95480226,  0.96045198,  0.96045198,\n",
       "        0.96610169,  0.97175141,  0.97740113,  0.97740113,  0.97740113,\n",
       "        0.97740113,  0.97740113,  0.97740113,  0.98305085,  0.98305085,\n",
       "        0.98870056,  0.98870056,  0.98870056,  0.98870056,  0.98870056,\n",
       "        0.98870056,  0.99435028,  0.99435028,  0.99435028,  0.99435028,\n",
       "        0.99435028,  0.99435028,  0.99435028,  0.99435028,  0.99435028,\n",
       "        0.99435028,  0.99435028,  0.99435028,  0.99435028,  0.99435028,\n",
       "        0.99435028,  0.99435028,  0.99435028,  0.99435028,  1.        ,\n",
       "        1.        ,  1.        ,  1.        ,  1.        ,  1.        ,\n",
       "        1.        ,  1.        ,  1.        ,  1.        ])"
      ]
     },
     "execution_count": 10,
     "metadata": {},
     "output_type": "execute_result"
    }
   ],
   "source": [
    "np.average(cmc_list,axis=0)"
   ]
  },
  {
   "cell_type": "code",
   "execution_count": 119,
   "metadata": {
    "collapsed": false
   },
   "outputs": [
    {
     "data": {
      "text/plain": [
       "array([ 0.51694915,  0.63050847,  0.6779661 ,  0.7220339 ,  0.75084746,\n",
       "        0.77118644,  0.79491525,  0.81864407,  0.83898305,  0.84915254,\n",
       "        0.86610169,  0.87457627,  0.88305085,  0.89661017,  0.90847458,\n",
       "        0.91186441,  0.92372881,  0.92542373,  0.93728814,  0.94576271,\n",
       "        0.94915254,  0.95423729,  0.95762712,  0.95932203,  0.96101695,\n",
       "        0.96271186,  0.96271186,  0.96610169,  0.96949153,  0.97118644,\n",
       "        0.97627119,  0.9779661 ,  0.97966102,  0.98135593,  0.98135593,\n",
       "        0.98305085,  0.98305085,  0.98474576,  0.98474576,  0.98474576,\n",
       "        0.98983051,  0.99322034,  0.99661017,  0.99661017,  0.99661017,\n",
       "        0.99830508,  1.        ,  1.        ,  1.        ,  1.        ,\n",
       "        1.        ,  1.        ,  1.        ,  1.        ,  1.        ,\n",
       "        1.        ,  1.        ,  1.        ,  1.        ])"
      ]
     },
     "execution_count": 119,
     "metadata": {},
     "output_type": "execute_result"
    }
   ],
   "source": [
    "np.average(cmc_list,axis=0)"
   ]
  },
  {
   "cell_type": "code",
   "execution_count": 47,
   "metadata": {
    "collapsed": false
   },
   "outputs": [
    {
     "ename": "NameError",
     "evalue": "name 'cmc_all' is not defined",
     "output_type": "error",
     "traceback": [
      "\u001b[1;31m---------------------------------------------------------------------------\u001b[0m",
      "\u001b[1;31mNameError\u001b[0m                                 Traceback (most recent call last)",
      "\u001b[1;32m<ipython-input-47-59e640133b8c>\u001b[0m in \u001b[0;36m<module>\u001b[1;34m()\u001b[0m\n\u001b[0;32m      1\u001b[0m \u001b[0mcmcDict\u001b[0m\u001b[1;33m=\u001b[0m\u001b[1;33m{\u001b[0m\u001b[1;33m}\u001b[0m\u001b[1;33m\u001b[0m\u001b[0m\n\u001b[0;32m      2\u001b[0m \u001b[0mcmcDict\u001b[0m\u001b[1;33m[\u001b[0m\u001b[1;34m'CVPR15Imp'\u001b[0m\u001b[1;33m]\u001b[0m\u001b[1;33m=\u001b[0m\u001b[0mgetCVPRcmc\u001b[0m\u001b[1;33m(\u001b[0m\u001b[1;33m)\u001b[0m\u001b[1;33m\u001b[0m\u001b[0m\n\u001b[1;32m----> 3\u001b[1;33m \u001b[0mcmcDict\u001b[0m\u001b[1;33m[\u001b[0m\u001b[1;34m'Our_HNM'\u001b[0m\u001b[1;33m]\u001b[0m\u001b[1;33m=\u001b[0m\u001b[0mcmc_all\u001b[0m\u001b[1;33m\u001b[0m\u001b[0m\n\u001b[0m\u001b[0;32m      4\u001b[0m \u001b[1;31m#plot the dictionary, sorted by rank1 rate\u001b[0m\u001b[1;33m\u001b[0m\u001b[1;33m\u001b[0m\u001b[0m\n\u001b[0;32m      5\u001b[0m \u001b[0mplotCMC\u001b[0m\u001b[1;33m(\u001b[0m\u001b[0mcmcDict\u001b[0m\u001b[1;33m)\u001b[0m\u001b[1;33m\u001b[0m\u001b[0m\n",
      "\u001b[1;31mNameError\u001b[0m: name 'cmc_all' is not defined"
     ]
    }
   ],
   "source": [
    "cmcDict={}\n",
    "cmcDict['CVPR15Imp']=getCVPRcmc()\n",
    "cmcDict['Our_HNM']=cmc_all\n",
    "#plot the dictionary, sorted by rank1 rate\n",
    "plotCMC(cmcDict)"
   ]
  },
  {
   "cell_type": "code",
   "execution_count": 18,
   "metadata": {
    "collapsed": false
   },
   "outputs": [
    {
     "ename": "RuntimeError",
     "evalue": "Could not open file ../../experiments/reid_simplemodel/set03/deploy.prototxt",
     "output_type": "error",
     "traceback": [
      "\u001b[1;31m---------------------------------------------------------------------------\u001b[0m",
      "\u001b[1;31mRuntimeError\u001b[0m                              Traceback (most recent call last)",
      "\u001b[1;32m<ipython-input-18-427ab33e5af7>\u001b[0m in \u001b[0;36m<module>\u001b[1;34m()\u001b[0m\n\u001b[0;32m    151\u001b[0m \u001b[1;33m\u001b[0m\u001b[0m\n\u001b[0;32m    152\u001b[0m \u001b[1;32mif\u001b[0m \u001b[0m__name__\u001b[0m \u001b[1;33m==\u001b[0m \u001b[1;34m'__main__'\u001b[0m\u001b[1;33m:\u001b[0m\u001b[1;33m\u001b[0m\u001b[0m\n\u001b[1;32m--> 153\u001b[1;33m     \u001b[0mmain\u001b[0m\u001b[1;33m(\u001b[0m\u001b[1;33m)\u001b[0m\u001b[1;33m\u001b[0m\u001b[0m\n\u001b[0m\u001b[0;32m    154\u001b[0m \u001b[1;33m\u001b[0m\u001b[0m\n",
      "\u001b[1;32m<ipython-input-18-427ab33e5af7>\u001b[0m in \u001b[0;36mmain\u001b[1;34m()\u001b[0m\n\u001b[0;32m    141\u001b[0m         \u001b[0mcaffe\u001b[0m\u001b[1;33m.\u001b[0m\u001b[0mset_device\u001b[0m\u001b[1;33m(\u001b[0m\u001b[1;36m0\u001b[0m\u001b[1;33m)\u001b[0m\u001b[1;33m\u001b[0m\u001b[0m\n\u001b[0;32m    142\u001b[0m         \u001b[0mcaffe\u001b[0m\u001b[1;33m.\u001b[0m\u001b[0mset_mode_gpu\u001b[0m\u001b[1;33m(\u001b[0m\u001b[1;33m)\u001b[0m\u001b[1;33m\u001b[0m\u001b[0m\n\u001b[1;32m--> 143\u001b[1;33m         \u001b[0mnet\u001b[0m \u001b[1;33m=\u001b[0m \u001b[0mcaffe\u001b[0m\u001b[1;33m.\u001b[0m\u001b[0mClassifier\u001b[0m\u001b[1;33m(\u001b[0m\u001b[0mMODEL_FILE\u001b[0m\u001b[1;33m,\u001b[0m \u001b[0mPRETRAINED\u001b[0m\u001b[1;33m,\u001b[0m\u001b[0mcaffe\u001b[0m\u001b[1;33m.\u001b[0m\u001b[0mTEST\u001b[0m\u001b[1;33m)\u001b[0m\u001b[1;33m\u001b[0m\u001b[0m\n\u001b[0m\u001b[0;32m    144\u001b[0m         \u001b[1;31m#caculate CMC\u001b[0m\u001b[1;33m\u001b[0m\u001b[1;33m\u001b[0m\u001b[0m\n\u001b[0;32m    145\u001b[0m         \u001b[0mcmc\u001b[0m\u001b[1;33m=\u001b[0m\u001b[0mcalCMC\u001b[0m\u001b[1;33m(\u001b[0m\u001b[0mnet\u001b[0m\u001b[1;33m,\u001b[0m\u001b[0mset_no\u001b[0m\u001b[1;33m,\u001b[0m\u001b[0mrand_times\u001b[0m\u001b[1;33m=\u001b[0m\u001b[1;36m10\u001b[0m\u001b[1;33m)\u001b[0m\u001b[1;33m\u001b[0m\u001b[0m\n",
      "\u001b[1;32m/mnt/disk01/reid/caffe/python/caffe/classifier.pyc\u001b[0m in \u001b[0;36m__init__\u001b[1;34m(self, model_file, pretrained_file, image_dims, mean, input_scale, raw_scale, channel_swap)\u001b[0m\n\u001b[0;32m     24\u001b[0m                  \u001b[0mmean\u001b[0m\u001b[1;33m=\u001b[0m\u001b[0mNone\u001b[0m\u001b[1;33m,\u001b[0m \u001b[0minput_scale\u001b[0m\u001b[1;33m=\u001b[0m\u001b[0mNone\u001b[0m\u001b[1;33m,\u001b[0m \u001b[0mraw_scale\u001b[0m\u001b[1;33m=\u001b[0m\u001b[0mNone\u001b[0m\u001b[1;33m,\u001b[0m\u001b[1;33m\u001b[0m\u001b[0m\n\u001b[0;32m     25\u001b[0m                  channel_swap=None):\n\u001b[1;32m---> 26\u001b[1;33m         \u001b[0mcaffe\u001b[0m\u001b[1;33m.\u001b[0m\u001b[0mNet\u001b[0m\u001b[1;33m.\u001b[0m\u001b[0m__init__\u001b[0m\u001b[1;33m(\u001b[0m\u001b[0mself\u001b[0m\u001b[1;33m,\u001b[0m \u001b[0mmodel_file\u001b[0m\u001b[1;33m,\u001b[0m \u001b[0mpretrained_file\u001b[0m\u001b[1;33m,\u001b[0m \u001b[0mcaffe\u001b[0m\u001b[1;33m.\u001b[0m\u001b[0mTEST\u001b[0m\u001b[1;33m)\u001b[0m\u001b[1;33m\u001b[0m\u001b[0m\n\u001b[0m\u001b[0;32m     27\u001b[0m \u001b[1;33m\u001b[0m\u001b[0m\n\u001b[0;32m     28\u001b[0m         \u001b[1;31m# configure pre-processing\u001b[0m\u001b[1;33m\u001b[0m\u001b[1;33m\u001b[0m\u001b[0m\n",
      "\u001b[1;31mRuntimeError\u001b[0m: Could not open file ../../experiments/reid_simplemodel/set03/deploy.prototxt"
     ]
    }
   ],
   "source": [
    "def getSIFT():\n",
    "    #return the cmc values, 100 dim vetor\n",
    "    import numpy as np\n",
    "    cmcIndex=[0,4,8,12,16,21,25,29,33,37,41,45,49,53]\n",
    "    cmcOfCVPRImproved=[0.3427,0.8753,0.9293,0.9712,0.9764,0.9811,0.9899,0.9901,0.9912,0.9922,0.9937,0.9945,0.9951,1]\n",
    "    pOfCVPRImproved = np.poly1d(np.polyfit(cmcIndex,cmcOfCVPRImproved,10))\n",
    "    x_line=range(50)\n",
    "    cmc=pOfCVPRImproved(x_line)\n",
    "    return cmc\n",
    "\n",
    "def plotCMC_step5(cmcDict,pathname):\n",
    "    import matplotlib.pyplot as plt\n",
    "    get_ipython().magic(u'matplotlib inline')   \n",
    "    from matplotlib.legend_handler import HandlerLine2D\n",
    "    import numpy as np\n",
    "\n",
    "    #plot the cmc curve, record CVPR from the pdf paper.cmc[0,4,8,12,16,21,25,29,33,37,41,45,49]\n",
    "    rank2show=25\n",
    "    rankStep=5\n",
    "    cmcIndex=np.arange(0,rank2show,rankStep)   #0,5,10,15,20,25\n",
    "\n",
    "    colorList=['rv-','g^-','bs-','yp-','c*-','m+-','kd-','gs-','b^-']\n",
    "    #start to plot\n",
    "    plt.ioff()\n",
    "    fig = plt.figure(figsize=(6,5),dpi=180)\n",
    "    sortedCmcDict = sorted(cmcDict.items(), key=lambda (k, v): v[1])[::-1]\n",
    "    for idx in range(len(sortedCmcDict)):\n",
    "        cmc_dictList=sortedCmcDict[idx]\n",
    "        cmc_name=cmc_dictList[0]\n",
    "        cmc_list=cmc_dictList[1]\n",
    "        #print cmc_name,\": \",cmc_list\n",
    "        #x for plot\n",
    "        x_point=[item+1 for item in cmcIndex]\n",
    "        x_line=range(rank2show)\n",
    "        x_plot=[temp+1 for temp in x_line]\n",
    "        #start plot\n",
    "        plt.plot(x_plot, cmc_list[x_line],colorList[idx],label=\"%02.02f%% %s\"%(100*cmc_list[0],cmc_name))\n",
    "        plt.plot(x_point,cmc_list[cmcIndex],colorList[idx]+'.')\n",
    "        #plt.legend(loc=4,handler_map={line: HandlerLine2D(numpoints=1)})\n",
    "        #idx of color +1\n",
    "        idx+=1\n",
    "    #something to render\n",
    "\n",
    "    plt.xlabel('Rank')\n",
    "    plt.ylabel('Identification Rate')\n",
    "    plt.xticks(np.arange(0,rank2show+1,5))\n",
    "    plt.yticks(np.arange(0,1.01,0.1))\n",
    "    plt.grid()\n",
    "    plt.legend(loc=4)\n",
    "    plt.savefig(pathname)\n",
    "    plt.show()"
   ]
  },
  {
   "cell_type": "code",
   "execution_count": null,
   "metadata": {
    "collapsed": true
   },
   "outputs": [],
   "source": []
  }
 ],
 "metadata": {
  "kernelspec": {
   "display_name": "Python 2",
   "language": "python",
   "name": "python2"
  },
  "language_info": {
   "codemirror_mode": {
    "name": "ipython",
    "version": 2
   },
   "file_extension": ".py",
   "mimetype": "text/x-python",
   "name": "python",
   "nbconvert_exporter": "python",
   "pygments_lexer": "ipython2",
   "version": "2.7.6"
  }
 },
 "nbformat": 4,
 "nbformat_minor": 0
}
