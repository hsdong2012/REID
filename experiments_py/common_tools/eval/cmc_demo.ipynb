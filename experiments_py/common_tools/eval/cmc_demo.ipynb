{
 "cells": [
  {
   "cell_type": "code",
   "execution_count": 9,
   "metadata": {
    "collapsed": false
   },
   "outputs": [
    {
     "name": "stdout",
     "output_type": "stream",
     "text": [
      "probes:\n",
      "[0, 1, 2]\n",
      "gallerys:\n",
      "[[0, 1, 2], [1, 0, 2], [1, 2, 0]]\n",
      "[ 0.66666667  1.          1.        ]\n"
     ]
    }
   ],
   "source": [
    "import numpy as np\n",
    "from cmc import evaluateCMC\n",
    "import random\n",
    "\n",
    "N=3\n",
    "gtLabels=range(N)\n",
    "predictLists=[]\n",
    "for i in range(N):\n",
    "    tempList=range(N)\n",
    "    random.shuffle(tempList)\n",
    "    predictLists.append(tempList)\n",
    "print('probes:')\n",
    "print(gtLabels)\n",
    "print('gallerys:')\n",
    "print(predictLists)\n",
    "\n",
    "cmc=evaluateCMC(gtLabels,predictLists)\n",
    "print(cmc)\n",
    "#test result looks good"
   ]
  },
  {
   "cell_type": "code",
   "execution_count": null,
   "metadata": {
    "collapsed": true
   },
   "outputs": [],
   "source": []
  }
 ],
 "metadata": {
  "kernelspec": {
   "display_name": "Python 2",
   "language": "python",
   "name": "python2"
  },
  "language_info": {
   "codemirror_mode": {
    "name": "ipython",
    "version": 2
   },
   "file_extension": ".py",
   "mimetype": "text/x-python",
   "name": "python",
   "nbconvert_exporter": "python",
   "pygments_lexer": "ipython2",
   "version": "2.7.6"
  }
 },
 "nbformat": 4,
 "nbformat_minor": 0
}
