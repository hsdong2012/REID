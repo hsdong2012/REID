{
 "cells": [
  {
   "cell_type": "code",
   "execution_count": 1,
   "metadata": {
    "collapsed": false
   },
   "outputs": [],
   "source": [
    "from eval_cuhk03 import *\n",
    "cmcDict={}"
   ]
  },
  {
   "cell_type": "code",
   "execution_count": 2,
   "metadata": {
    "collapsed": false
   },
   "outputs": [
    {
     "data": {
      "text/plain": [
       "[('data', (1, 3, 160, 80)),\n",
       " ('data_p', (1, 3, 160, 80)),\n",
       " ('conv1', (1, 96, 38, 18)),\n",
       " ('norm1', (1, 96, 38, 18)),\n",
       " ('pool1', (1, 96, 19, 9)),\n",
       " ('conv2', (1, 256, 19, 9)),\n",
       " ('norm2', (1, 256, 19, 9)),\n",
       " ('conv1_p', (1, 96, 38, 18)),\n",
       " ('norm1_p', (1, 96, 38, 18)),\n",
       " ('pool1_p', (1, 96, 19, 9)),\n",
       " ('conv2_p', (1, 256, 19, 9)),\n",
       " ('norm2_p', (1, 256, 19, 9)),\n",
       " ('conv2-all', (1, 512, 19, 9)),\n",
       " ('conv3', (1, 384, 19, 9)),\n",
       " ('conv4', (1, 384, 19, 9)),\n",
       " ('conv5', (1, 256, 19, 9)),\n",
       " ('pool5', (1, 256, 9, 4)),\n",
       " ('fc6', (1, 4096)),\n",
       " ('fc7', (1, 4096)),\n",
       " ('fc7-all', (1, 2)),\n",
       " ('softmax_score', (1, 2))]"
      ]
     },
     "execution_count": 2,
     "metadata": {},
     "output_type": "execute_result"
    }
   ],
   "source": [
    "MODEL_FILE = '../../experiments/reid_earlyfusion/set01/deploy.prototxt'\n",
    "PRETRAINED = '../../experiments/reid_earlyfusion/set01/Snapshots/set01_alex_viper_big_POS40_RATIO10_iter_10000.caffemodel'\n",
    "caffe.set_device(1)\n",
    "caffe.set_mode_gpu()\n",
    "net = caffe.Classifier(MODEL_FILE, PRETRAINED,caffe.TEST)\n",
    "[(k, v.data.shape) for k, v in net.blobs.items()]"
   ]
  },
  {
   "cell_type": "code",
   "execution_count": null,
   "metadata": {
    "collapsed": true
   },
   "outputs": [],
   "source": [
    "test_list=range(1,3) #use set 1-10 for test (total 20)\n",
    "cmc_list=[]\n",
    "for set_no in test_list:\n",
    "    #init net\n",
    "    cmc_list=[]\n",
    "    MODEL_FILE = '../../experiments/reid_earlyfusion/set01/deploy_google_bigmap.prototxt'\n",
    "    PRETRAINED = '../../experiments/reid_earlyfusion_google_bigmap/set%02d/Snapshots/set%02d_iter_20000.caffemodel'(set_no,set_no)\n",
    "    caffe.set_device(1)\n",
    "    caffe.set_mode_gpu()\n",
    "    net = caffe.Classifier(MODEL_FILE, PRETRAINED,caffe.TEST)\n",
    "    #caculate CMC\n",
    "    cmc=calCMC(net,set_no,rand_times=10)\n",
    "    cmc_list.append(cmc)\n",
    "cmc_all=np.average(cmc_list,axis=0)\n",
    "print('\\nCMC from rank 1 to rank %d:'%(len(cmc_all)))\n",
    "print(cmc_all)\n",
    "cmcDict['ours (GN, no hnm)'] = cmc_all"
   ]
  },
  {
   "cell_type": "code",
   "execution_count": 5,
   "metadata": {
    "collapsed": false
   },
   "outputs": [
    {
     "name": "stdout",
     "output_type": "stream",
     "text": [
      "../../dataset/cuhk03/cuhk03_release/exp_set/set01_test_noval.txt\n",
      "\n",
      "Round 0 with rand list:\n",
      "  Processing 100x100 pairs cost 17.758948 second time\n",
      "Round 1 with rand list:\n",
      "  Processing 100x100 pairs cost 19.221841 second time\n",
      "Round 2 with rand list:\n",
      "  Processing 100x100 pairs cost 19.258626 second time\n",
      "Round 3 with rand list:\n",
      "  Processing 100x100 pairs cost 19.213409 second time\n",
      "Round 4 with rand list:\n",
      "  Processing 100x100 pairs cost 19.237657 second time\n",
      "Round 5 with rand list:\n",
      "  Processing 100x100 pairs cost 19.187932 second time\n",
      "Round 6 with rand list:\n",
      "  Processing 100x100 pairs cost 19.074876 second time\n",
      "Round 7 with rand list:\n",
      "  Processing 100x100 pairs cost 19.148626 second time\n",
      "Round 8 with rand list:\n",
      "  Processing 100x100 pairs cost 19.135151 second time\n",
      "Round 9 with rand list:\n",
      "  Processing 100x100 pairs cost 19.232541 second time\n",
      "\n",
      "CMC from rank 1 to rank 100:\n",
      "[ 0.767  0.912  0.957  0.971  0.981  0.983  0.987  0.988  0.989  0.989\n",
      "  0.989  0.99   0.991  0.994  0.996  0.997  0.997  0.997  0.997  0.998\n",
      "  0.998  0.998  0.998  0.998  0.998  0.998  0.999  0.999  0.999  0.999  1.\n",
      "  1.     1.     1.     1.     1.     1.     1.     1.     1.     1.     1.\n",
      "  1.     1.     1.     1.     1.     1.     1.     1.     1.     1.     1.\n",
      "  1.     1.     1.     1.     1.     1.     1.     1.     1.     1.     1.\n",
      "  1.     1.     1.     1.     1.     1.     1.     1.     1.     1.     1.\n",
      "  1.     1.     1.     1.     1.     1.     1.     1.     1.     1.     1.\n",
      "  1.     1.     1.     1.     1.     1.     1.     1.     1.     1.     1.\n",
      "  1.     1.     1.   ]\n"
     ]
    }
   ],
   "source": [
    "test_list=range(1,2) #use set 1-10 for test (total 20)\n",
    "cmc_list=[]\n",
    "for set_no in test_list:\n",
    "    #init net\n",
    "    cmc_list=[]\n",
    "    MODEL_FILE = '../../experiments/reid_earlyfusion/set01/deploy_google_bigmap.prototxt'\n",
    "    PRETRAINED = '../../experiments/reid_earlyfusion_google_bigmap/set01/Snapshots/set01_hnm_iter_20000.caffemodel'\n",
    "    caffe.set_device(1)\n",
    "    caffe.set_mode_gpu()\n",
    "    net = caffe.Classifier(MODEL_FILE, PRETRAINED,caffe.TEST)\n",
    "    #caculate CMC\n",
    "    cmc=calCMC(net,set_no,rand_times=10)\n",
    "    cmc_list.append(cmc)\n",
    "    cmc_all=np.average(cmc_list,axis=0)\n",
    "    print('\\nCMC from rank 1 to rank %d:'%(len(cmc_all)))\n",
    "    print(cmc_all)\n",
    "cmcDict['ours (GN, hnm)'] = cmc_all"
   ]
  },
  {
   "cell_type": "code",
   "execution_count": 7,
   "metadata": {
    "collapsed": false,
    "scrolled": false
   },
   "outputs": [
    {
     "name": "stdout",
     "output_type": "stream",
     "text": [
      "../../dataset/cuhk03/cuhk03_release/exp_set/set02_test_noval.txt\n",
      "\n",
      "Round 0 with rand list:\n",
      "  Processing 100x100 pairs cost 17.096248 second time\n",
      "Round 1 with rand list:\n",
      "  Processing 100x100 pairs cost 19.299806 second time\n",
      "Round 2 with rand list:\n",
      "  Processing 100x100 pairs cost 19.494419 second time\n",
      "Round 3 with rand list:\n",
      "  Processing 100x100 pairs cost 19.441592 second time\n",
      "Round 4 with rand list:\n",
      "  Processing 100x100 pairs cost 19.480441 second time\n",
      "Round 5 with rand list:\n",
      "  Processing 100x100 pairs cost 19.454027 second time\n",
      "Round 6 with rand list:\n",
      "  Processing 100x100 pairs cost 19.482837 second time\n",
      "Round 7 with rand list:\n",
      "  Processing 100x100 pairs cost 19.450670 second time\n",
      "Round 8 with rand list:\n",
      "  Processing 100x100 pairs cost 19.488764 second time\n",
      "Round 9 with rand list:\n",
      "  Processing 100x100 pairs cost 19.477980 second time\n",
      "\n",
      "CMC from rank 1 to rank 100:\n",
      "[ 0.823  0.921  0.955  0.971  0.982  0.99   0.994  0.995  0.996  0.996\n",
      "  0.996  0.996  0.997  0.997  0.997  0.997  0.997  0.997  0.997  0.997\n",
      "  0.997  0.997  0.997  0.997  0.997  0.997  0.997  0.997  0.997  0.997\n",
      "  0.997  0.997  0.997  0.997  0.997  0.997  0.997  0.997  0.997  0.998\n",
      "  0.998  0.998  0.998  0.998  0.998  0.998  0.998  0.998  0.998  0.998\n",
      "  0.998  0.998  0.999  0.999  0.999  0.999  0.999  0.999  0.999  0.999\n",
      "  0.999  0.999  0.999  0.999  0.999  0.999  0.999  0.999  0.999  1.     1.\n",
      "  1.     1.     1.     1.     1.     1.     1.     1.     1.     1.     1.\n",
      "  1.     1.     1.     1.     1.     1.     1.     1.     1.     1.     1.\n",
      "  1.     1.     1.     1.     1.     1.     1.   ]\n"
     ]
    }
   ],
   "source": [
    "test_list=range(2,3) #use set 1-10 for test (total 20)\n",
    "cmc_list=[]\n",
    "for set_no in test_list:\n",
    "    #init net\n",
    "    cmc_list=[]\n",
    "    MODEL_FILE = '../../experiments/reid_earlyfusion/set01/deploy_google_bigmap.prototxt'\n",
    "    PRETRAINED = '../../experiments/reid_earlyfusion_google_bigmap/set02/Snapshots/set02_hnm_iter_20000.caffemodel'\n",
    "    caffe.set_device(0)\n",
    "    caffe.set_mode_gpu()\n",
    "    net = caffe.Classifier(MODEL_FILE, PRETRAINED,caffe.TEST)\n",
    "    #caculate CMC\n",
    "    cmc=calCMC(net,set_no,rand_times=10)\n",
    "    cmc_list.append(cmc)\n",
    "    cmc_all=np.average(cmc_list,axis=0)\n",
    "    print('\\nCMC from rank 1 to rank %d:'%(len(cmc_all)))\n",
    "    print(cmc_all)\n",
    "cmcDict['ours (GN, hnm)'] = cmc_all"
   ]
  },
  {
   "cell_type": "code",
   "execution_count": 8,
   "metadata": {
    "collapsed": false
   },
   "outputs": [
    {
     "name": "stdout",
     "output_type": "stream",
     "text": [
      "../../dataset/cuhk03/cuhk03_release/exp_set/set01_test_noval.txt\n",
      "\n",
      "Round 0 with rand list:\n",
      "  Processing 100x100 pairs cost 19.319113 second time\n",
      "Round 1 with rand list:\n",
      "  Processing 100x100 pairs cost 19.470551 second time\n",
      "Round 2 with rand list:\n",
      "  Processing 100x100 pairs cost 19.465431 second time\n",
      "Round 3 with rand list:\n",
      "  Processing 100x100 pairs cost 19.463831 second time\n",
      "Round 4 with rand list:\n",
      "  Processing 100x100 pairs cost 19.445776 second time\n",
      "Round 5 with rand list:\n",
      "  Processing 100x100 pairs cost 19.463572 second time\n",
      "Round 6 with rand list:\n",
      "  Processing 100x100 pairs cost 19.490739 second time\n",
      "Round 7 with rand list:\n",
      "  Processing 100x100 pairs cost 19.430763 second time\n",
      "Round 8 with rand list:\n",
      "  Processing 100x100 pairs cost 19.463624 second time\n",
      "Round 9 with rand list:\n",
      "  Processing 100x100 pairs cost 19.424224 second time\n",
      "\n",
      "CMC from rank 1 to rank 100:\n",
      "[ 0.715  0.872  0.92   0.951  0.963  0.968  0.972  0.976  0.979  0.984\n",
      "  0.986  0.988  0.989  0.99   0.992  0.993  0.993  0.993  0.993  0.993\n",
      "  0.994  0.994  0.994  0.994  0.994  0.994  0.996  0.996  0.996  0.998\n",
      "  0.998  0.998  0.998  0.998  0.998  0.998  0.999  0.999  0.999  0.999  1.\n",
      "  1.     1.     1.     1.     1.     1.     1.     1.     1.     1.     1.\n",
      "  1.     1.     1.     1.     1.     1.     1.     1.     1.     1.     1.\n",
      "  1.     1.     1.     1.     1.     1.     1.     1.     1.     1.     1.\n",
      "  1.     1.     1.     1.     1.     1.     1.     1.     1.     1.     1.\n",
      "  1.     1.     1.     1.     1.     1.     1.     1.     1.     1.     1.\n",
      "  1.     1.     1.     1.   ]\n"
     ]
    }
   ],
   "source": [
    "test_list=range(1,2) #use set 1-10 for test (total 20)\n",
    "cmc_list=[]\n",
    "for set_no in test_list:\n",
    "    #init net\n",
    "    cmc_list=[]\n",
    "    MODEL_FILE = '../../experiments/reid_earlyfusion/set01/deploy_google_bigmap.prototxt'\n",
    "    PRETRAINED = '../../experiments/reid_earlyfusion_google_bigmap/set03/Snapshots/set03_iter_50000.caffemodel'\n",
    "    caffe.set_device(0)\n",
    "    caffe.set_mode_gpu()\n",
    "    net = caffe.Classifier(MODEL_FILE, PRETRAINED,caffe.TEST)\n",
    "    #caculate CMC\n",
    "    cmc=calCMC(net,set_no,rand_times=10)\n",
    "    cmc_list.append(cmc)\n",
    "    cmc_all=np.average(cmc_list,axis=0)\n",
    "    print('\\nCMC from rank 1 to rank %d:'%(len(cmc_all)))\n",
    "    print(cmc_all)\n",
    "cmcDict['ours (GN, no hnm)'] = cmc_all"
   ]
  },
  {
   "cell_type": "code",
   "execution_count": 12,
   "metadata": {
    "collapsed": false,
    "scrolled": false
   },
   "outputs": [
    {
     "name": "stdout",
     "output_type": "stream",
     "text": [
      "../../dataset/cuhk03/cuhk03_release/exp_set/set01_test_noval.txt\n",
      "\n",
      "Round 0 with rand list:\n",
      "  Processing 100x100 pairs cost 23.313252 second time\n",
      "Round 1 with rand list:\n",
      "  Processing 100x100 pairs cost 23.432270 second time\n",
      "Round 2 with rand list:\n",
      "  Processing 100x100 pairs cost 23.438469 second time\n",
      "Round 3 with rand list:\n",
      "  Processing 100x100 pairs cost 23.325186 second time\n",
      "Round 4 with rand list:\n",
      "  Processing 100x100 pairs cost 23.341626 second time\n",
      "Round 5 with rand list:\n",
      "  Processing 100x100 pairs cost 23.413274 second time\n",
      "Round 6 with rand list:\n",
      "  Processing 100x100 pairs cost 23.350943 second time\n",
      "Round 7 with rand list:\n",
      "  Processing 100x100 pairs cost 23.287697 second time\n",
      "Round 8 with rand list:\n",
      "  Processing 100x100 pairs cost 23.214853 second time\n",
      "Round 9 with rand list:\n",
      "  Processing 100x100 pairs cost 23.322055 second time\n",
      "\n",
      "CMC from rank 1 to rank 100:\n",
      "[ 0.758  0.904  0.955  0.978  0.985  0.992  0.994  0.996  0.997  0.998\n",
      "  0.998  0.998  0.998  0.998  0.998  0.998  0.998  0.998  0.998  0.998\n",
      "  0.999  0.999  0.999  0.999  0.999  1.     1.     1.     1.     1.     1.\n",
      "  1.     1.     1.     1.     1.     1.     1.     1.     1.     1.     1.\n",
      "  1.     1.     1.     1.     1.     1.     1.     1.     1.     1.     1.\n",
      "  1.     1.     1.     1.     1.     1.     1.     1.     1.     1.     1.\n",
      "  1.     1.     1.     1.     1.     1.     1.     1.     1.     1.     1.\n",
      "  1.     1.     1.     1.     1.     1.     1.     1.     1.     1.     1.\n",
      "  1.     1.     1.     1.     1.     1.     1.     1.     1.     1.     1.\n",
      "  1.     1.     1.   ]\n"
     ]
    }
   ],
   "source": [
    "test_list=range(1,2) #use set 1-10 for test (total 20)\n",
    "cmc_list=[]\n",
    "for set_no in test_list:\n",
    "    #init net\n",
    "    cmc_list=[]\n",
    "    MODEL_FILE = '../../experiments/reid_earlyfusion_google_cuhk01/set01/deploy.prototxt'\n",
    "    PRETRAINED = '../../experiments/reid_earlyfusion/set01/Snapshots/set01_drop40_hnm_iter_75826.caffemodel'\n",
    "    caffe.set_device(1)\n",
    "    caffe.set_mode_gpu()\n",
    "    net = caffe.Classifier(MODEL_FILE, PRETRAINED,caffe.TEST)\n",
    "    #caculate CMC\n",
    "    cmc=calCMC(net,set_no,rand_times=10)\n",
    "    cmc_list.append(cmc)\n",
    "    cmc_all=np.average(cmc_list,axis=0)\n",
    "    print('\\nCMC from rank 1 to rank %d:'%(len(cmc_all)))\n",
    "    print(cmc_all)\n",
    "cmcDict['ours (GN, hnm)'] = cmc_all"
   ]
  },
  {
   "cell_type": "code",
   "execution_count": 16,
   "metadata": {
    "collapsed": false
   },
   "outputs": [
    {
     "name": "stdout",
     "output_type": "stream",
     "text": [
      "../../dataset/cuhk03/cuhk03_release/exp_set/set01_test_noval.txt\n",
      "\n",
      "Round 0 with rand list:\n",
      "  Processing 100x100 pairs cost 9.904071 second time\n",
      "Round 1 with rand list:\n",
      "  Processing 100x100 pairs cost 11.290229 second time\n",
      "Round 2 with rand list:\n",
      "  Processing 100x100 pairs cost 11.283616 second time\n",
      "Round 3 with rand list:\n",
      "  Processing 100x100 pairs cost 11.280389 second time\n",
      "Round 4 with rand list:\n",
      "  Processing 100x100 pairs cost 11.361340 second time\n",
      "Round 5 with rand list:\n",
      "  Processing 100x100 pairs cost 11.279129 second time\n",
      "Round 6 with rand list:\n",
      "  Processing 100x100 pairs cost 11.369399 second time\n",
      "Round 7 with rand list:\n",
      "  Processing 100x100 pairs cost 11.245116 second time\n",
      "Round 8 with rand list:\n",
      "  Processing 100x100 pairs cost 11.240317 second time\n",
      "Round 9 with rand list:\n",
      "  Processing 100x100 pairs cost 11.294677 second time\n",
      "\n",
      "CMC from rank 1 to rank 100:\n",
      "[ 0.675  0.827  0.899  0.924  0.943  0.955  0.964  0.969  0.977  0.98\n",
      "  0.983  0.984  0.985  0.989  0.991  0.993  0.994  0.995  0.995  0.997\n",
      "  0.997  0.997  0.997  0.997  0.997  0.997  0.997  0.997  0.997  0.997\n",
      "  0.997  0.997  0.997  0.998  0.998  0.998  0.998  0.998  0.998  0.998\n",
      "  0.999  0.999  1.     1.     1.     1.     1.     1.     1.     1.     1.\n",
      "  1.     1.     1.     1.     1.     1.     1.     1.     1.     1.     1.\n",
      "  1.     1.     1.     1.     1.     1.     1.     1.     1.     1.     1.\n",
      "  1.     1.     1.     1.     1.     1.     1.     1.     1.     1.     1.\n",
      "  1.     1.     1.     1.     1.     1.     1.     1.     1.     1.     1.\n",
      "  1.     1.     1.     1.     1.   ]\n"
     ]
    }
   ],
   "source": [
    "test_list=range(1,2) #use set 1-10 for test (total 20)\n",
    "cmc_list=[]\n",
    "for set_no in test_list:\n",
    "    #init net\n",
    "    cmc_list=[]\n",
    "    MODEL_FILE = '../../experiments/reid_earlyfusion_drop10/set01/deploy.prototxt'\n",
    "    PRETRAINED = '../../models/reid/earlyfusion/Trained/set01.caffemodel'\n",
    "    caffe.set_device(1)\n",
    "    caffe.set_mode_gpu()\n",
    "    net = caffe.Classifier(MODEL_FILE, PRETRAINED,caffe.TEST)\n",
    "    #caculate CMC\n",
    "    cmc=calCMC(net,set_no,rand_times=10)\n",
    "    cmc_list.append(cmc)\n",
    "    cmc_all=np.average(cmc_list,axis=0)\n",
    "    print('\\nCMC from rank 1 to rank %d:'%(len(cmc_all)))\n",
    "    print(cmc_all)\n",
    "cmcDict['ours (AN, no hnm)'] = cmc_all"
   ]
  },
  {
   "cell_type": "code",
   "execution_count": 15,
   "metadata": {
    "collapsed": false
   },
   "outputs": [
    {
     "name": "stdout",
     "output_type": "stream",
     "text": [
      "../../dataset/cuhk03/cuhk03_release/exp_set/set01_test_noval.txt\n",
      "\n",
      "Round 0 with rand list:\n",
      "  Processing 100x100 pairs cost 9.722016 second time\n",
      "Round 1 with rand list:\n",
      "  Processing 100x100 pairs cost 11.414002 second time\n",
      "Round 2 with rand list:\n",
      "  Processing 100x100 pairs cost 11.376033 second time\n",
      "Round 3 with rand list:\n",
      "  Processing 100x100 pairs cost 11.464020 second time\n",
      "Round 4 with rand list:\n",
      "  Processing 100x100 pairs cost 11.339246 second time\n",
      "Round 5 with rand list:\n",
      "  Processing 100x100 pairs cost 11.345896 second time\n",
      "Round 6 with rand list:\n",
      "  Processing 100x100 pairs cost 11.296819 second time\n",
      "Round 7 with rand list:\n",
      "  Processing 100x100 pairs cost 11.293531 second time\n",
      "Round 8 with rand list:\n",
      "  Processing 100x100 pairs cost 11.389145 second time\n",
      "Round 9 with rand list:\n",
      "  Processing 100x100 pairs cost 11.311788 second time\n",
      "\n",
      "CMC from rank 1 to rank 100:\n",
      "[ 0.684  0.838  0.906  0.933  0.949  0.96   0.97   0.976  0.978  0.979\n",
      "  0.982  0.984  0.984  0.987  0.988  0.99   0.991  0.991  0.992  0.993\n",
      "  0.995  0.995  0.995  0.995  0.996  0.996  0.996  0.996  0.996  0.996\n",
      "  0.996  0.996  0.996  0.996  0.996  0.996  0.996  0.996  0.996  0.996\n",
      "  0.996  0.996  0.996  0.996  0.997  0.997  0.997  0.997  0.997  0.997\n",
      "  0.997  0.998  0.998  0.998  0.998  0.998  0.998  0.998  0.998  0.998\n",
      "  0.999  0.999  0.999  1.     1.     1.     1.     1.     1.     1.     1.\n",
      "  1.     1.     1.     1.     1.     1.     1.     1.     1.     1.     1.\n",
      "  1.     1.     1.     1.     1.     1.     1.     1.     1.     1.     1.\n",
      "  1.     1.     1.     1.     1.     1.     1.   ]\n"
     ]
    }
   ],
   "source": [
    "test_list=range(1,2) #use set 1-10 for test (total 20)\n",
    "cmc_list=[]\n",
    "for set_no in test_list:\n",
    "    #init net\n",
    "    cmc_list=[]\n",
    "    MODEL_FILE = '../../experiments/reid_earlyfusion_drop10/set01/deploy.prototxt'\n",
    "    PRETRAINED = '../../models/reid/earlyfusion/Trained/set01_hnm.caffemodel'\n",
    "    caffe.set_device(1)\n",
    "    caffe.set_mode_gpu()\n",
    "    net = caffe.Classifier(MODEL_FILE, PRETRAINED,caffe.TEST)\n",
    "    #caculate CMC\n",
    "    cmc=calCMC(net,set_no,rand_times=10)\n",
    "    cmc_list.append(cmc)\n",
    "    cmc_all=np.average(cmc_list,axis=0)\n",
    "    print('\\nCMC from rank 1 to rank %d:'%(len(cmc_all)))\n",
    "    print(cmc_all)\n",
    "cmcDict['ours (AN, hnm)'] = cmc_all"
   ]
  },
  {
   "cell_type": "code",
   "execution_count": 5,
   "metadata": {
    "collapsed": false
   },
   "outputs": [
    {
     "data": {
      "image/png": "[encoded data removed]",
      "text/plain": [
       "<matplotlib.figure.Figure at 0x7f5201a7e450>"
      ]
     },
     "metadata": {},
     "output_type": "display_data"
    }
   ],
   "source": [
    "import scipy.io as sio\n",
    "data = sio.loadmat('cuhk03_labeled.mat')['data']\n",
    "\n",
    "cmcDict['ImprovedDL'] = data[0]\n",
    "cmcDict['KISSME'] = data[1]\n",
    "#cmcDict['eSDC'] = data[2]\n",
    "#cmcDict['SDALF'] = data[3]\n",
    "#cmcDict['LDM'] = data[4]\n",
    "#cmcDict['RANK'] = data[5]\n",
    "#cmcDict['LMNN'] = data[6]\n",
    "#cmcDict['ITML'] = data[7]\n",
    "#cmcDict['Euclid'] = data[8]\n",
    "cmcDict['FPNN'] = data[9]\n",
    "#plot the dictionary, sorted by rank1 rate\n",
    "\n",
    "save_path = '../../paper/cuhk03_labeled_set01.png'\n",
    "plotCMC(cmcDict,save_path)"
   ]
  },
  {
   "cell_type": "markdown",
   "metadata": {
    "collapsed": false
   },
   "source": [
    "# Just for Debug"
   ]
  },
  {
   "cell_type": "code",
   "execution_count": 5,
   "metadata": {
    "collapsed": false,
    "scrolled": false
   },
   "outputs": [
    {
     "ename": "TypeError",
     "evalue": "popitem() takes no arguments (1 given)",
     "output_type": "error",
     "traceback": [
      "\u001b[1;31m---------------------------------------------------------------------------\u001b[0m",
      "\u001b[1;31mTypeError\u001b[0m                                 Traceback (most recent call last)",
      "\u001b[1;32m<ipython-input-5-bc6a5c31a1f4>\u001b[0m in \u001b[0;36m<module>\u001b[1;34m()\u001b[0m\n\u001b[1;32m----> 1\u001b[1;33m \u001b[0mcmcDict\u001b[0m\u001b[1;33m.\u001b[0m\u001b[0mpopitem\u001b[0m\u001b[1;33m(\u001b[0m\u001b[1;34m'LDM'\u001b[0m\u001b[1;33m)\u001b[0m\u001b[1;33m\u001b[0m\u001b[0m\n\u001b[0m",
      "\u001b[1;31mTypeError\u001b[0m: popitem() takes no arguments (1 given)"
     ]
    }
   ],
   "source": []
  },
  {
   "cell_type": "code",
   "execution_count": null,
   "metadata": {
    "collapsed": true
   },
   "outputs": [],
   "source": []
  }
 ],
 "metadata": {
  "kernelspec": {
   "display_name": "Python 2",
   "language": "python",
   "name": "python2"
  },
  "language_info": {
   "codemirror_mode": {
    "name": "ipython",
    "version": 2
   },
   "file_extension": ".py",
   "mimetype": "text/x-python",
   "name": "python",
   "nbconvert_exporter": "python",
   "pygments_lexer": "ipython2",
   "version": "2.7.10"
  }
 },
 "nbformat": 4,
 "nbformat_minor": 0
}
