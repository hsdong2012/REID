{
 "cells": [
  {
   "cell_type": "code",
   "execution_count": 1,
   "metadata": {
    "collapsed": true
   },
   "outputs": [],
   "source": [
    "import numpy as np\n",
    "root = '../../'\n",
    "caffe_root = root + 'caffe/'  # this file is expected to be in {caffe_root}/examples\n",
    "import sys\n",
    "sys.path.insert(0, caffe_root + 'python')\n",
    "import caffe\n",
    "import os\n",
    "import random"
   ]
  },
  {
   "cell_type": "code",
   "execution_count": 2,
   "metadata": {
    "collapsed": false
   },
   "outputs": [],
   "source": [
    "DATA_DIR='../../dataset/cuhk01/cuhk01/'\n",
    "file_list_a=os.listdir(DATA_DIR)"
   ]
  },
  {
   "cell_type": "code",
   "execution_count": 3,
   "metadata": {
    "collapsed": false
   },
   "outputs": [
    {
     "name": "stdout",
     "output_type": "stream",
     "text": [
      "971\n",
      "['../../dataset/cuhk01/cuhk01/0003001.png', '../../dataset/cuhk01/cuhk01/0003003.png', '../../dataset/cuhk01/cuhk01/0003002.png', '../../dataset/cuhk01/cuhk01/0003004.png']\n"
     ]
    }
   ],
   "source": [
    "name_dict={}\n",
    "\n",
    "for name in file_list_a:\n",
    "    if name[-3:]=='png':\n",
    "        id = name[:4]\n",
    "        if not name_dict.has_key(id):\n",
    "            name_dict[id]=[]\n",
    "        name_dict[id].append(DATA_DIR+name)  \n",
    "\n",
    "print len(name_dict)\n",
    "print name_dict['0003']"
   ]
  },
  {
   "cell_type": "code",
   "execution_count": 4,
   "metadata": {
    "collapsed": false
   },
   "outputs": [
    {
     "name": "stdout",
     "output_type": "stream",
     "text": [
      "../../dataset/cuhk01/exp_set/testid100_set01_test.txt\n",
      "100\n"
     ]
    }
   ],
   "source": [
    "# choose test ids:\n",
    "test_id_number = 100\n",
    "set_no = 1\n",
    "phase = 'test'\n",
    "filename_test = '../../dataset/cuhk01/exp_set/testid%03d_set%02d_%s.txt'%(test_id_number,(set_no),phase)\n",
    "print filename_test\n",
    "\n",
    "file_object = open(filename_test)\n",
    "try:\n",
    "    all_the_text = file_object.read( )\n",
    "finally:\n",
    "    file_object.close( )\n",
    "\n",
    "test_dict = {}\n",
    "\n",
    "lines = all_the_text.split('\\n')\n",
    "for filename in lines:\n",
    "    if filename!='':\n",
    "        if name_dict.has_key(filename):\n",
    "            test_dict[filename] = name_dict[filename]\n",
    "print len(test_dict)"
   ]
  },
  {
   "cell_type": "code",
   "execution_count": 5,
   "metadata": {
    "collapsed": true
   },
   "outputs": [],
   "source": [
    "def readList(name_list,name_dict): \n",
    "    import random\n",
    "    import os\n",
    "    probes=[]\n",
    "    gallerys=[]\n",
    "    for key in name_list:\n",
    "        probes.append(name_dict[key][random.randint(0,1)])\n",
    "        gallerys.append(name_dict[key][random.randint(2,3)])\n",
    "    if len(probes)!=len(gallerys):\n",
    "        print('something wrong! list length does not match!/n')\n",
    "        return 0\n",
    "    else:\n",
    "        return probes,gallerys\n",
    "def generateScoreList(net,probes,gallerys):\n",
    "    transformer = caffe.io.Transformer({'data': (net.blobs['data'].data.shape)})\n",
    "    transformer.set_transpose('data', (2,0,1))\n",
    "    transformer.set_mean('data', np.array([ 104.00698793,  116.66876762,  122.67891434])) # mean pixel\n",
    "    transformer.set_raw_scale('data', 255)  # the reference model operates on images in [0,255] range instead of [0,1]\n",
    "    transformer.set_channel_swap('data', (2,1,0))  # the reference model has channels in BGR order instead of RGB\n",
    "    \n",
    "    scoreList=[]\n",
    "    N,C,H,W=net.blobs['data'].data.shape\n",
    "    from time import clock\n",
    "    start=clock()\n",
    "    #galleryData is same for each probe\n",
    "    galleryLen=len(gallerys)\n",
    "    galleryDataList=[]\n",
    "    for galleryIdx in range(galleryLen):\n",
    "        galleryName=gallerys[galleryIdx]\n",
    "        galleryImage=transformer.preprocess('data', caffe.io.load_image(galleryName))\n",
    "        galleryDataList.append(galleryImage)\n",
    "        galleryIdx+=1\n",
    "    #galleryData and probeData\n",
    "    galleryData=np.asarray(galleryDataList)\n",
    "    probeData=np.zeros((galleryLen,C,H,W))\n",
    "    \n",
    "    net.blobs['data'].reshape(galleryLen,C,H,W)\n",
    "    net.blobs['data_p'].reshape(galleryLen,C,H,W)\n",
    "    #process each probe\n",
    "    for probeIdx in range(len(probes)):\n",
    "        probeName=probes[probeIdx]\n",
    "        probeImage=transformer.preprocess('data', caffe.io.load_image(probeName))\n",
    "        #batch data assignment\n",
    "        probeData[:,:,:,:]=probeImage\n",
    "        net.blobs['data'].data[:] = probeData\n",
    "        net.blobs['data_p'].data[:] = galleryData\n",
    "        #net forwad\n",
    "        net.forward()\n",
    "        #get output score\n",
    "        outScore=net.blobs['softmax_score'].data[:,(0,1)]    #softmax_score[0] and softmax_score[1]\n",
    "        score_sum=np.exp(outScore[:,0]*1.0)+np.exp(outScore[:,1]*1.0)\n",
    "        similarScore=outScore[:,1]#np.exp(outScore[:,1]*1.0)/score_sum\n",
    "        #scoreList.append each probe score\n",
    "        scoreList.append(similarScore.tolist())\n",
    "        if (probeIdx+1)%10==0:\n",
    "            sys.stdout.write('\\r%3d/%d, '%(probeIdx+1,len(probes))+probeName)\n",
    "            sys.stdout.flush()\n",
    "    #we get scoreList, then cal predictLists\n",
    "    predictLists=[]\n",
    "    for score in scoreList:\n",
    "        probeRankList=np.argsort(score)[::-1]\n",
    "        predictLists.append(probeRankList)\n",
    "    finish=clock()\n",
    "    print('\\r  Processing %dx%d pairs cost %f second time'%(len(probes),len(gallerys),(finish-start)))\n",
    "    return scoreList,predictLists\n",
    "\n",
    "def calCMC(net,set_no,rand_times=10):\n",
    "    from cmc import evaluateCMC\n",
    "\n",
    "\n",
    "    #rand 10 times for stable result\n",
    "    cmc_list=[]\n",
    "    for i in range(rand_times):\n",
    "        print 'Round %d with rand list:'%i\n",
    "        probes,gallerys=readList(list_name)\n",
    "        scoreList,predictLists=generateScoreList(net,probes,gallerys)\n",
    "        gtLabels=range(len(probes))\n",
    "        cmc=evaluateCMC(gtLabels,predictLists)\n",
    "        cmc_list.append(cmc)\n",
    "    return np.average(cmc_list,axis=0)\n",
    "\n",
    "def getCVPRcmc():\n",
    "    #return the cmc values, 100 dim vetor\n",
    "    import numpy as np\n",
    "    cmcIndex=[0,4,8,12,16,21,25,29,33,37,41,45,49,53]\n",
    "    cmcOfCVPRImproved=[0.5474,0.8753,0.9293,0.9712,0.9764,0.9811,0.9899,0.9901,0.9912,0.9922,0.9937,0.9945,0.9951,1]\n",
    "    pOfCVPRImproved = np.poly1d(np.polyfit(cmcIndex,cmcOfCVPRImproved,10))\n",
    "    x_line=range(50)\n",
    "    cmc=pOfCVPRImproved(x_line)\n",
    "    return cmc\n"
   ]
  },
  {
   "cell_type": "code",
   "execution_count": 6,
   "metadata": {
    "collapsed": false
   },
   "outputs": [
    {
     "name": "stdout",
     "output_type": "stream",
     "text": [
      "100\n"
     ]
    }
   ],
   "source": [
    "key_list = []\n",
    "for key in test_dict.keys():\n",
    "    key_list.append(key)\n",
    "\n",
    "key_list_shuffle = key_list[:]\n",
    "random.shuffle(key_list_shuffle)\n",
    "probes,gallerys=readList(key_list_shuffle[:],test_dict)\n",
    "print len(key_list)"
   ]
  },
  {
   "cell_type": "code",
   "execution_count": 7,
   "metadata": {
    "collapsed": true
   },
   "outputs": [],
   "source": [
    "cmcDict={}"
   ]
  },
  {
   "cell_type": "code",
   "execution_count": 10,
   "metadata": {
    "collapsed": false
   },
   "outputs": [
    {
     "name": "stdout",
     "output_type": "stream",
     "text": [
      "Round 0 with rand list:\n",
      "  Processing 100x100 pairs cost 23.321624 second time\n",
      "Round 1 with rand list:\n",
      "  Processing 100x100 pairs cost 24.333921 second time\n",
      "Round 2 with rand list:\n",
      "  Processing 100x100 pairs cost 24.173315 second time\n",
      "Round 3 with rand list:\n",
      "  Processing 100x100 pairs cost 24.058856 second time\n",
      "Round 4 with rand list:\n",
      "  Processing 100x100 pairs cost 12.664797 second time\n",
      "Round 5 with rand list:\n",
      "  Processing 100x100 pairs cost 12.557879 second time\n",
      "Round 6 with rand list:\n",
      "  Processing 100x100 pairs cost 12.604683 second time\n",
      "Round 7 with rand list:\n",
      "  Processing 100x100 pairs cost 12.520883 second time\n",
      "Round 8 with rand list:\n",
      "  Processing 100x100 pairs cost 12.513982 second time\n",
      "Round 9 with rand list:\n",
      "  Processing 100x100 pairs cost 15.944079 second time\n",
      "[ 0.878  0.942  0.963  0.972  0.978  0.98   0.982  0.984  0.986  0.99\n",
      "  0.991  0.993  0.993  0.994  0.994  0.994  0.994  0.996  0.996  0.997\n",
      "  0.997  0.998  0.998  0.999  0.999  0.999  0.999  0.999  0.999  1.     1.\n",
      "  1.     1.     1.     1.     1.     1.     1.     1.     1.     1.     1.\n",
      "  1.     1.     1.     1.     1.     1.     1.     1.     1.     1.     1.\n",
      "  1.     1.     1.     1.     1.     1.     1.     1.     1.     1.     1.\n",
      "  1.     1.     1.     1.     1.     1.     1.     1.     1.     1.     1.\n",
      "  1.     1.     1.     1.     1.     1.     1.     1.     1.     1.     1.\n",
      "  1.     1.     1.     1.     1.     1.     1.     1.     1.     1.     1.\n",
      "  1.     1.     1.   ]\n"
     ]
    }
   ],
   "source": [
    "cmc_list=[]\n",
    "from cmc import evaluateCMC\n",
    "MODEL_FILE = '../../experiments/reid_earlyfusion_google_cuhk01/set01/deploy.prototxt'\n",
    "PRETRAINED = '../../experiments/reid_earlyfusion_google_cuhk01/set01/Snapshots/set01_round2_iter_20000.caffemodel'\n",
    "caffe.set_device(1)\n",
    "caffe.set_mode_gpu()\n",
    "net = caffe.Classifier(MODEL_FILE, PRETRAINED,caffe.TEST)\n",
    "for i in range(10):\n",
    "    print 'Round %d with rand list:'%i\n",
    "    key_list_shuffle = key_list[:]\n",
    "    random.shuffle(key_list_shuffle)\n",
    "    probes,gallerys=readList(key_list_shuffle[:],name_dict)\n",
    "    scoreList,predictLists=generateScoreList(net,probes,gallerys)\n",
    "    gtLabels=range(len(probes))\n",
    "    cmc=evaluateCMC(gtLabels,predictLists)\n",
    "    cmc_list.append(cmc)\n",
    "cmc_all = np.average(cmc_list,axis=0)\n",
    "print cmc_all\n",
    "cmcDict['ours (GN, hnm)'] = cmc_all"
   ]
  },
  {
   "cell_type": "code",
   "execution_count": 11,
   "metadata": {
    "collapsed": false
   },
   "outputs": [
    {
     "name": "stdout",
     "output_type": "stream",
     "text": [
      "Round 0 with rand list:\n",
      "  Processing 100x100 pairs cost 23.763356 second time\n",
      "Round 1 with rand list:\n",
      "  Processing 100x100 pairs cost 23.664829 second time\n",
      "Round 2 with rand list:\n",
      "  Processing 100x100 pairs cost 23.639561 second time\n",
      "Round 3 with rand list:\n",
      "  Processing 100x100 pairs cost 23.488648 second time\n",
      "Round 4 with rand list:\n",
      "  Processing 100x100 pairs cost 23.526093 second time\n",
      "Round 5 with rand list:\n",
      "  Processing 100x100 pairs cost 23.451593 second time\n",
      "Round 6 with rand list:\n",
      "  Processing 100x100 pairs cost 23.537822 second time\n",
      "Round 7 with rand list:\n",
      "  Processing 100x100 pairs cost 23.562390 second time\n",
      "Round 8 with rand list:\n",
      "  Processing 100x100 pairs cost 23.495760 second time\n",
      "Round 9 with rand list:\n",
      "  Processing 100x100 pairs cost 23.556151 second time\n",
      "[ 0.895  0.956  0.967  0.971  0.974  0.981  0.983  0.986  0.989  0.99\n",
      "  0.991  0.992  0.993  0.995  0.995  0.995  0.995  0.995  0.996  0.997\n",
      "  0.998  0.998  0.999  0.999  1.     1.     1.     1.     1.     1.     1.\n",
      "  1.     1.     1.     1.     1.     1.     1.     1.     1.     1.     1.\n",
      "  1.     1.     1.     1.     1.     1.     1.     1.     1.     1.     1.\n",
      "  1.     1.     1.     1.     1.     1.     1.     1.     1.     1.     1.\n",
      "  1.     1.     1.     1.     1.     1.     1.     1.     1.     1.     1.\n",
      "  1.     1.     1.     1.     1.     1.     1.     1.     1.     1.     1.\n",
      "  1.     1.     1.     1.     1.     1.     1.     1.     1.     1.     1.\n",
      "  1.     1.     1.   ]\n"
     ]
    }
   ],
   "source": [
    "cmc_list=[]\n",
    "from cmc import evaluateCMC\n",
    "MODEL_FILE = '../../experiments/reid_earlyfusion_google_cuhk01/set01/deploy.prototxt'\n",
    "PRETRAINED = '../../experiments/reid_earlyfusion_google_cuhk01/set01/Snapshots/set01_iter_60000.caffemodel'\n",
    "caffe.set_device(1)\n",
    "caffe.set_mode_gpu()\n",
    "net = caffe.Classifier(MODEL_FILE, PRETRAINED,caffe.TEST)\n",
    "for i in range(10):\n",
    "    print 'Round %d with rand list:'%i\n",
    "    key_list_shuffle = key_list[:]\n",
    "    random.shuffle(key_list_shuffle)\n",
    "    probes,gallerys=readList(key_list_shuffle[:],name_dict)\n",
    "    scoreList,predictLists=generateScoreList(net,probes,gallerys)\n",
    "    gtLabels=range(len(probes))\n",
    "    cmc=evaluateCMC(gtLabels,predictLists)\n",
    "    cmc_list.append(cmc)\n",
    "cmc_all = np.average(cmc_list,axis=0)\n",
    "print cmc_all\n",
    "cmcDict['ours (GN, no hnm)'] = cmc_all"
   ]
  },
  {
   "cell_type": "code",
   "execution_count": 15,
   "metadata": {
    "collapsed": false
   },
   "outputs": [
    {
     "data": {
      "image/png": "[encoded data removed]",
      "text/plain": [
       "<matplotlib.figure.Figure at 0x7f4a78268b10>"
      ]
     },
     "metadata": {},
     "output_type": "display_data"
    }
   ],
   "source": [
    "import scipy.io as sio\n",
    "data = sio.loadmat('/mnt/share/Temp/reid_mat/cuhk01_100ID.mat')['data']\n",
    "from eval_cuhk03 import plotCMC\n",
    "\n",
    "cmcDict['ImprovedDL'] = data[0]\n",
    "cmcDict['KISSME'] = data[1]\n",
    "#cmcDict['eSDC'] = data[2]\n",
    "#cmcDict['SDALF'] = data[3]\n",
    "#cmcDict['LDM'] = data[4]\n",
    "#cmcDict['RANK'] = data[5]\n",
    "#cmcDict['LMNN'] = data[6]\n",
    "#cmcDict['ITML'] = data[7]\n",
    "#cmcDict['Euclid'] = data[8]\n",
    "cmcDict['FPNN'] = data[9]\n",
    "#plot the dictionary, sorted by rank1 rate\n",
    "\n",
    "save_path = 'cuhk01_id100_set01.png'\n",
    "plotCMC(cmcDict,save_path)"
   ]
  },
  {
   "cell_type": "code",
   "execution_count": 18,
   "metadata": {
    "collapsed": false
   },
   "outputs": [
    {
     "ename": "RuntimeError",
     "evalue": "Could not open file ../../experiments/reid_simplemodel/set03/deploy.prototxt",
     "output_type": "error",
     "traceback": [
      "\u001b[1;31m---------------------------------------------------------------------------\u001b[0m",
      "\u001b[1;31mRuntimeError\u001b[0m                              Traceback (most recent call last)",
      "\u001b[1;32m<ipython-input-18-427ab33e5af7>\u001b[0m in \u001b[0;36m<module>\u001b[1;34m()\u001b[0m\n\u001b[0;32m    151\u001b[0m \u001b[1;33m\u001b[0m\u001b[0m\n\u001b[0;32m    152\u001b[0m \u001b[1;32mif\u001b[0m \u001b[0m__name__\u001b[0m \u001b[1;33m==\u001b[0m \u001b[1;34m'__main__'\u001b[0m\u001b[1;33m:\u001b[0m\u001b[1;33m\u001b[0m\u001b[0m\n\u001b[1;32m--> 153\u001b[1;33m     \u001b[0mmain\u001b[0m\u001b[1;33m(\u001b[0m\u001b[1;33m)\u001b[0m\u001b[1;33m\u001b[0m\u001b[0m\n\u001b[0m\u001b[0;32m    154\u001b[0m \u001b[1;33m\u001b[0m\u001b[0m\n",
      "\u001b[1;32m<ipython-input-18-427ab33e5af7>\u001b[0m in \u001b[0;36mmain\u001b[1;34m()\u001b[0m\n\u001b[0;32m    141\u001b[0m         \u001b[0mcaffe\u001b[0m\u001b[1;33m.\u001b[0m\u001b[0mset_device\u001b[0m\u001b[1;33m(\u001b[0m\u001b[1;36m0\u001b[0m\u001b[1;33m)\u001b[0m\u001b[1;33m\u001b[0m\u001b[0m\n\u001b[0;32m    142\u001b[0m         \u001b[0mcaffe\u001b[0m\u001b[1;33m.\u001b[0m\u001b[0mset_mode_gpu\u001b[0m\u001b[1;33m(\u001b[0m\u001b[1;33m)\u001b[0m\u001b[1;33m\u001b[0m\u001b[0m\n\u001b[1;32m--> 143\u001b[1;33m         \u001b[0mnet\u001b[0m \u001b[1;33m=\u001b[0m \u001b[0mcaffe\u001b[0m\u001b[1;33m.\u001b[0m\u001b[0mClassifier\u001b[0m\u001b[1;33m(\u001b[0m\u001b[0mMODEL_FILE\u001b[0m\u001b[1;33m,\u001b[0m \u001b[0mPRETRAINED\u001b[0m\u001b[1;33m,\u001b[0m\u001b[0mcaffe\u001b[0m\u001b[1;33m.\u001b[0m\u001b[0mTEST\u001b[0m\u001b[1;33m)\u001b[0m\u001b[1;33m\u001b[0m\u001b[0m\n\u001b[0m\u001b[0;32m    144\u001b[0m         \u001b[1;31m#caculate CMC\u001b[0m\u001b[1;33m\u001b[0m\u001b[1;33m\u001b[0m\u001b[0m\n\u001b[0;32m    145\u001b[0m         \u001b[0mcmc\u001b[0m\u001b[1;33m=\u001b[0m\u001b[0mcalCMC\u001b[0m\u001b[1;33m(\u001b[0m\u001b[0mnet\u001b[0m\u001b[1;33m,\u001b[0m\u001b[0mset_no\u001b[0m\u001b[1;33m,\u001b[0m\u001b[0mrand_times\u001b[0m\u001b[1;33m=\u001b[0m\u001b[1;36m10\u001b[0m\u001b[1;33m)\u001b[0m\u001b[1;33m\u001b[0m\u001b[0m\n",
      "\u001b[1;32m/mnt/disk01/reid/caffe/python/caffe/classifier.pyc\u001b[0m in \u001b[0;36m__init__\u001b[1;34m(self, model_file, pretrained_file, image_dims, mean, input_scale, raw_scale, channel_swap)\u001b[0m\n\u001b[0;32m     24\u001b[0m                  \u001b[0mmean\u001b[0m\u001b[1;33m=\u001b[0m\u001b[0mNone\u001b[0m\u001b[1;33m,\u001b[0m \u001b[0minput_scale\u001b[0m\u001b[1;33m=\u001b[0m\u001b[0mNone\u001b[0m\u001b[1;33m,\u001b[0m \u001b[0mraw_scale\u001b[0m\u001b[1;33m=\u001b[0m\u001b[0mNone\u001b[0m\u001b[1;33m,\u001b[0m\u001b[1;33m\u001b[0m\u001b[0m\n\u001b[0;32m     25\u001b[0m                  channel_swap=None):\n\u001b[1;32m---> 26\u001b[1;33m         \u001b[0mcaffe\u001b[0m\u001b[1;33m.\u001b[0m\u001b[0mNet\u001b[0m\u001b[1;33m.\u001b[0m\u001b[0m__init__\u001b[0m\u001b[1;33m(\u001b[0m\u001b[0mself\u001b[0m\u001b[1;33m,\u001b[0m \u001b[0mmodel_file\u001b[0m\u001b[1;33m,\u001b[0m \u001b[0mpretrained_file\u001b[0m\u001b[1;33m,\u001b[0m \u001b[0mcaffe\u001b[0m\u001b[1;33m.\u001b[0m\u001b[0mTEST\u001b[0m\u001b[1;33m)\u001b[0m\u001b[1;33m\u001b[0m\u001b[0m\n\u001b[0m\u001b[0;32m     27\u001b[0m \u001b[1;33m\u001b[0m\u001b[0m\n\u001b[0;32m     28\u001b[0m         \u001b[1;31m# configure pre-processing\u001b[0m\u001b[1;33m\u001b[0m\u001b[1;33m\u001b[0m\u001b[0m\n",
      "\u001b[1;31mRuntimeError\u001b[0m: Could not open file ../../experiments/reid_simplemodel/set03/deploy.prototxt"
     ]
    }
   ],
   "source": [
    "\n",
    "\n",
    "\n",
    "    #end of show\n",
    "    \n",
    "def main():\n",
    "    test_list=range(3,4) #use set 1-10 for test (total 20)\n",
    "    cmc_list=[]\n",
    "    for set_no in test_list:\n",
    "        #init net\n",
    "        MODEL_FILE = '../../experiments/reid_simplemodel/set%02d/'%(set_no)+'deploy.prototxt'\n",
    "        PRETRAINED = '../../experiments/reid_simplemodel/set%02d/'%(set_no)+'Snapshots/set%02d_iter_120000.caffemodel'%(set_no)\n",
    "        caffe.set_device(0)\n",
    "        caffe.set_mode_gpu()\n",
    "        net = caffe.Classifier(MODEL_FILE, PRETRAINED,caffe.TEST)\n",
    "        #caculate CMC\n",
    "        cmc=calCMC(net,set_no,rand_times=10)\n",
    "        cmc_list.append(cmc)\n",
    "    cmc_all=np.average(cmc_list,axis=0)\n",
    "    print('\\nCMC from rank 1 to rank %d:'%(len(cmc_all)))\n",
    "    print(cmc_all)\n",
    "    plotCMC(cmc)\n",
    "    \n",
    "if __name__ == '__main__':\n",
    "    main()\n",
    "\n"
   ]
  },
  {
   "cell_type": "code",
   "execution_count": null,
   "metadata": {
    "collapsed": true
   },
   "outputs": [],
   "source": []
  }
 ],
 "metadata": {
  "kernelspec": {
   "display_name": "Python 2",
   "language": "python",
   "name": "python2"
  },
  "language_info": {
   "codemirror_mode": {
    "name": "ipython",
    "version": 2
   },
   "file_extension": ".py",
   "mimetype": "text/x-python",
   "name": "python",
   "nbconvert_exporter": "python",
   "pygments_lexer": "ipython2",
   "version": "2.7.10"
  }
 },
 "nbformat": 4,
 "nbformat_minor": 0
}
