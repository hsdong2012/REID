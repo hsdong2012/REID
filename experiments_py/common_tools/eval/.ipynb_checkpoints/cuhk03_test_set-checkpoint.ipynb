{
 "cells": [
  {
   "cell_type": "code",
   "execution_count": 2,
   "metadata": {
    "collapsed": false
   },
   "outputs": [],
   "source": [
    "from eval_cuhk03_set import *"
   ]
  },
  {
   "cell_type": "code",
   "execution_count": 14,
   "metadata": {
    "collapsed": false,
    "scrolled": false
   },
   "outputs": [
    {
     "name": "stdout",
     "output_type": "stream",
     "text": [
      "../../dataset/cuhk03/cuhk03_release/exp_set/set01_test_noval.txt\n",
      "\n",
      "Round 0 with rand list:\n",
      "  Processing 100x100 pairs cost 47.223590 second time\n",
      "Round 1 with rand list:\n",
      "  Processing 100x100 pairs cost 47.134597 second time\n",
      "Round 2 with rand list:\n",
      "  Processing 100x100 pairs cost 46.670814 second time\n",
      "Round 3 with rand list:\n",
      "  Processing 100x100 pairs cost 47.554930 second time\n",
      "Round 4 with rand list:\n",
      "  Processing 100x100 pairs cost 49.087667 second time\n",
      "Round 5 with rand list:\n",
      "  Processing 100x100 pairs cost 48.261465 second time\n",
      "Round 6 with rand list:\n",
      "  Processing 100x100 pairs cost 47.310337 second time\n",
      "Round 7 with rand list:\n",
      "  Processing 100x100 pairs cost 49.232865 second time\n",
      "Round 8 with rand list:\n",
      "  Processing 100x100 pairs cost 48.201914 second time\n",
      "Round 9 with rand list:\n",
      "  Processing 100x100 pairs cost 47.674074 second time\n",
      "[ 0.616  0.8    0.861  0.896  0.912  0.923  0.932  0.943  0.953  0.961\n",
      "  0.966  0.97   0.975  0.978  0.98   0.984  0.984  0.984  0.984  0.984\n",
      "  0.985  0.985  0.987  0.988  0.989  0.989  0.989  0.989  0.99   0.991\n",
      "  0.992  0.994  0.994  0.994  0.994  0.994  0.994  0.994  0.994  0.995\n",
      "  0.995  0.995  0.995  0.995  0.996  0.997  0.997  0.997  0.998  0.999  1.\n",
      "  1.     1.     1.     1.     1.     1.     1.     1.     1.     1.     1.\n",
      "  1.     1.     1.     1.     1.     1.     1.     1.     1.     1.     1.\n",
      "  1.     1.     1.     1.     1.     1.     1.     1.     1.     1.     1.\n",
      "  1.     1.     1.     1.     1.     1.     1.     1.     1.     1.     1.\n",
      "  1.     1.     1.     1.     1.   ]\n"
     ]
    }
   ],
   "source": [
    "test_list=range(1,2) #use set 1-10 for test (total 20)\n",
    "cmc_list=[]\n",
    "for set_no in test_list:\n",
    "    #init net\n",
    "    for i in range(16,17):\n",
    "        MODEL_FILE = '../../experiments/reid_earlyfusion_imgset/set%02d/'%(set_no)+'deploy.prototxt'\n",
    "        PRETRAINED = '../../experiments/reid_earlyfusion_imgset/set%02d/'%(set_no)+'Snapshots/set%02d_iter_%d.caffemodel'%(set_no,(i+1)*5000)\n",
    "        caffe.set_device(0)\n",
    "        caffe.set_mode_gpu()\n",
    "        net = caffe.Classifier(MODEL_FILE, PRETRAINED,caffe.TEST)\n",
    "        #caculate CMC\n",
    "        cmc=calCMC(net,set_no,rand_times=10)\n",
    "        print cmc\n",
    "        cmc_list.append(cmc)"
   ]
  },
  {
   "cell_type": "code",
   "execution_count": null,
   "metadata": {
    "collapsed": true
   },
   "outputs": [],
   "source": [
    "test_list=range(1,2) #use set 1-10 for test (total 20)\n",
    "cmc_list=[]\n",
    "for set_no in test_list:\n",
    "    #init net\n",
    "    for i in range(16):\n",
    "        MODEL_FILE = '../../experiments/reid_earlyfusion_drop10//set%02d/'%(set_no)+'deploy.prototxt'\n",
    "        PRETRAINED = '../../experiments/reid_earlyfusion_drop10/set%02d/'%(set_no)+'Snapshots/set%02d_iter_%d.caffemodel'%(set_no,(i+1)*5000)\n",
    "        caffe.set_device(0)\n",
    "        caffe.set_mode_gpu()\n",
    "        net = caffe.Classifier(MODEL_FILE, PRETRAINED,caffe.TEST)\n",
    "        #caculate CMC\n",
    "        cmc=calCMC(net,set_no,rand_times=10)\n",
    "        print cmc\n",
    "        cmc_list.append(cmc)"
   ]
  },
  {
   "cell_type": "code",
   "execution_count": 6,
   "metadata": {
    "collapsed": false
   },
   "outputs": [
    {
     "data": {
      "image/png": "[encoded data removed]",
      "text/plain": [
       "<matplotlib.figure.Figure at 0x7f0e452dedd0>"
      ]
     },
     "metadata": {},
     "output_type": "display_data"
    }
   ],
   "source": [
    "#dict of cmc, each value is a cmc list (at least 50 dim vetor, rank 1 to rank 50)\n",
    "cmcDict={}\n",
    "cmcDict['CVPR15Imp']=getCVPRcmc()\n",
    "cmcDict['OurMethod']=np.average(cmc_list[:],axis=0)\n",
    "\n",
    "#plot the dictionary, sorted by rank1 rate\n",
    "plotCMC(cmcDict)"
   ]
  },
  {
   "cell_type": "code",
   "execution_count": null,
   "metadata": {
    "collapsed": false
   },
   "outputs": [],
   "source": [
    "print np.average(cmc_list[8:],axis=0)"
   ]
  },
  {
   "cell_type": "code",
   "execution_count": null,
   "metadata": {
    "collapsed": false
   },
   "outputs": [],
   "source": [
    "dict1={}\n",
    "dict1['1']=['hello']\n",
    "dict1['1'].append([1,2,3,4])\n",
    "dict1['2']=['dsvhello']\n",
    "dict1['2'].append([1,2,3,4,5])"
   ]
  },
  {
   "cell_type": "code",
   "execution_count": null,
   "metadata": {
    "collapsed": false
   },
   "outputs": [],
   "source": [
    "print dict1.items()"
   ]
  },
  {
   "cell_type": "code",
   "execution_count": null,
   "metadata": {
    "collapsed": true
   },
   "outputs": [],
   "source": [
    "def plotCMC(cmcDict):\n",
    "    import matplotlib.pyplot as plt\n",
    "    get_ipython().magic(u'matplotlib inline')\n",
    "    from matplotlib.legend_handler import HandlerLine2D\n",
    "    import numpy as np\n",
    "\n",
    "    #plot the cmc curve, record CVPR from the pdf paper.cmc[0,4,8,12,16,21,25,29,33,37,41,45,49]\n",
    "    cmcIndex=[0,4,8,12,16,21,25]\n",
    "    colorList=['g','b','r','y','c','m','k']\n",
    "    #start to plot\n",
    "    plt.figure(figsize=(12,8),dpi=180)\n",
    "    sortedCmcDict = sorted(cmcDict.items(), key=lambda (k, v): v[1])[::-1]\n",
    "    for idx in range(len(sortedCmcDict)):\n",
    "        cmc_dictList=sortedCmcDict[idx]\n",
    "        cmc_name=cmc_dictList[0]\n",
    "        cmc_list=cmc_dictList[1]\n",
    "        #print cmc_name,\": \",cmc_list\n",
    "        #x for plot\n",
    "        x_point=[item+1 for item in cmcIndex[0:-1]]\n",
    "        x_line=range(25)\n",
    "        x_plot=[temp+1 for temp in x_line]\n",
    "        #start plot\n",
    "        plt.plot(x_plot, cmc_list[x_line],colorList[idx],label=\"%02.02f%% %s\"%(100*cmc_list[0],cmc_name))\n",
    "        plt.plot(x_point,cmc_list[cmcIndex[0:-1]],colorList[idx]+'*')\n",
    "        #plt.legend(loc=4,handler_map={line: HandlerLine2D(numpoints=1)})\n",
    "        #idx of color +1\n",
    "        idx+=1\n",
    "    plt.xlabel('Rank')\n",
    "    plt.ylabel('Identification Rate')\n",
    "    plt.xticks(np.arange(0,26,5))\n",
    "    plt.yticks(np.arange(0.5,1.01,0.1))\n",
    "    plt.grid()\n",
    "    plt.legend(loc=4)\n",
    "    plt.show()"
   ]
  },
  {
   "cell_type": "markdown",
   "metadata": {
    "collapsed": false
   },
   "source": [
    "# Just for Debug"
   ]
  },
  {
   "cell_type": "code",
   "execution_count": null,
   "metadata": {
    "collapsed": false
   },
   "outputs": [],
   "source": [
    "set_no=3\n",
    "#init net\n",
    "MODEL_FILE = '../../experiments/reid_simplemodel/set%02d/'%(set_no)+'deploy.prototxt'\n",
    "PRETRAINED = '../../experiments/reid_simplemodel/set%02d/'%(set_no)+'Snapshots/set%02d_iter_120000.caffemodel'%(set_no)\n",
    "caffe.set_device(0)\n",
    "caffe.set_mode_gpu()\n",
    "net = caffe.Classifier(MODEL_FILE, PRETRAINED,caffe.TEST)\n",
    "list_name=DATA_DIR+'exp_set/set%02d_test_noval.txt'%(set_no)\n",
    "print list_name\n",
    "probes,gallerys=readList(list_name)\n",
    "\n",
    "#for only one probe test\n",
    "transformer = caffe.io.Transformer({'data': (net.blobs['data'].data.shape)})\n",
    "transformer.set_transpose('data', (2,0,1))\n",
    "transformer.set_mean('data', np.array([ 104.00698793,  116.66876762,  122.67891434])) # mean pixel\n",
    "transformer.set_raw_scale('data', 255)  # the reference model operates on images in [0,255] range instead of [0,1]\n",
    "transformer.set_channel_swap('data', (2,1,0))  # the reference model has channels in BGR order instead of RGB\n",
    "\n",
    "scoreList=[]\n",
    "for probeName in probes[0:1]:\n",
    "    probeImage=transformer.preprocess('data', caffe.io.load_image(probeName))\n",
    "    batchSize= 100\n",
    "    C,H,W=probeImage.shape\n",
    "    probeData=np.zeros((batchSize,C,H,W))\n",
    "    probeData[:,:,:,:]=probeImage\n",
    "    galleryIdx=0\n",
    "    probeScoreLists=[]\n",
    "    while galleryIdx<len(gallerys):\n",
    "        galleryDataList=[]\n",
    "        for batchIdx in range(batchSize):\n",
    "            if galleryIdx>=len(gallerys):\n",
    "                break\n",
    "            else:\n",
    "                galleryName=gallerys[galleryIdx]\n",
    "                galleryImage=transformer.preprocess('data', caffe.io.load_image(galleryName))\n",
    "                galleryDataList.append(galleryImage)\n",
    "                galleryIdx+=1\n",
    "        galleryData=np.asarray(galleryDataList)\n",
    "        #init net data with images\n",
    "        N,C,H,W=galleryData.shape\n",
    "        net.blobs['data'].reshape(N,C,H,W)\n",
    "        net.blobs['data_p'].reshape(N,C,H,W)\n",
    "        net.blobs['data'].data[:] = probeData[0:N,:]\n",
    "        net.blobs['data_p'].data[:] = galleryData\n",
    "        #net forwad\n",
    "        net.forward()\n",
    "        #get output score\n",
    "        outScore=net.blobs['softmax_score'].data[:,(0,1)]    #softmax_score[0] and softmax_score[1]\n",
    "        #score_sum=np.exp(outScore[:,0]*1.0)+np.exp(outScore[:,1]*1.0)\n",
    "        similarScore=outScore[:,1]    #np.exp(outScore[:,1]*1.0)/score_sum\n",
    "        probeScoreLists.extend(similarScore.tolist())\n",
    "    scoreList.append(probeScoreLists)\n",
    "    print probeName\n",
    "predictLists=[]"
   ]
  },
  {
   "cell_type": "code",
   "execution_count": null,
   "metadata": {
    "collapsed": true
   },
   "outputs": [],
   "source": []
  }
 ],
 "metadata": {
  "kernelspec": {
   "display_name": "Python 2",
   "language": "python",
   "name": "python2"
  },
  "language_info": {
   "codemirror_mode": {
    "name": "ipython",
    "version": 2
   },
   "file_extension": ".py",
   "mimetype": "text/x-python",
   "name": "python",
   "nbconvert_exporter": "python",
   "pygments_lexer": "ipython2",
   "version": "2.7.10"
  }
 },
 "nbformat": 4,
 "nbformat_minor": 0
}
