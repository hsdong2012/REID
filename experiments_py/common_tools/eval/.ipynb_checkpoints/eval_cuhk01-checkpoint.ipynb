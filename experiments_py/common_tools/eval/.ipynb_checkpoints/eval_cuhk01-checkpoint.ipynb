{
 "cells": [
  {
   "cell_type": "code",
   "execution_count": 1,
   "metadata": {
    "collapsed": true
   },
   "outputs": [],
   "source": [
    "import numpy as np\n",
    "root = '../../'\n",
    "caffe_root = root + 'caffe/'  # this file is expected to be in {caffe_root}/examples\n",
    "import sys\n",
    "sys.path.insert(0, caffe_root + 'python')\n",
    "import caffe\n",
    "import os\n",
    "import random"
   ]
  },
  {
   "cell_type": "code",
   "execution_count": 2,
   "metadata": {
    "collapsed": false
   },
   "outputs": [],
   "source": [
    "DATA_DIR='../../dataset/cuhk01/cuhk01/'\n",
    "file_list_a=os.listdir(DATA_DIR)"
   ]
  },
  {
   "cell_type": "code",
   "execution_count": 3,
   "metadata": {
    "collapsed": true
   },
   "outputs": [],
   "source": [
    "def readList(name_list,name_dict): \n",
    "    import random\n",
    "    import os\n",
    "    probes=[]\n",
    "    gallerys=[]\n",
    "    for key in name_list:\n",
    "        probes.append(name_dict[key][random.randint(0,1)])\n",
    "        gallerys.append(name_dict[key][random.randint(2,3)])\n",
    "    if len(probes)!=len(gallerys):\n",
    "        print('something wrong! list length does not match!/n')\n",
    "        return 0\n",
    "    else:\n",
    "        return probes,gallerys\n",
    "def generateScoreList(net,probes,gallerys):\n",
    "    transformer = caffe.io.Transformer({'data': (net.blobs['data'].data.shape)})\n",
    "    transformer.set_transpose('data', (2,0,1))\n",
    "    transformer.set_mean('data', np.array([ 104.00698793,  116.66876762,  122.67891434])) # mean pixel\n",
    "    transformer.set_raw_scale('data', 255)  # the reference model operates on images in [0,255] range instead of [0,1]\n",
    "    transformer.set_channel_swap('data', (2,1,0))  # the reference model has channels in BGR order instead of RGB\n",
    "    \n",
    "    scoreList=[]\n",
    "    N,C,H,W=net.blobs['data'].data.shape\n",
    "    from time import clock\n",
    "    start=clock()\n",
    "    #galleryData is same for each probe\n",
    "    galleryLen=len(gallerys)\n",
    "    galleryDataList=[]\n",
    "    for galleryIdx in range(galleryLen):\n",
    "        galleryName=gallerys[galleryIdx]\n",
    "        galleryImage=transformer.preprocess('data', caffe.io.load_image(galleryName))\n",
    "        galleryDataList.append(galleryImage)\n",
    "        galleryIdx+=1\n",
    "    #galleryData and probeData\n",
    "    galleryData=np.asarray(galleryDataList)\n",
    "    probeData=np.zeros((galleryLen,C,H,W))\n",
    "    \n",
    "    net.blobs['data'].reshape(galleryLen,C,H,W)\n",
    "    net.blobs['data_p'].reshape(galleryLen,C,H,W)\n",
    "    #process each probe\n",
    "    for probeIdx in range(len(probes)):\n",
    "        probeName=probes[probeIdx]\n",
    "        probeImage=transformer.preprocess('data', caffe.io.load_image(probeName))\n",
    "        #batch data assignment\n",
    "        probeData[:,:,:,:]=probeImage\n",
    "        net.blobs['data'].data[:] = probeData\n",
    "        net.blobs['data_p'].data[:] = galleryData\n",
    "        #net forwad\n",
    "        net.forward()\n",
    "        #get output score\n",
    "        outScore=net.blobs['softmax_score'].data[:,(0,1)]    #softmax_score[0] and softmax_score[1]\n",
    "        score_sum=np.exp(outScore[:,0]*1.0)+np.exp(outScore[:,1]*1.0)\n",
    "        similarScore=outScore[:,1]#np.exp(outScore[:,1]*1.0)/score_sum\n",
    "        #scoreList.append each probe score\n",
    "        scoreList.append(similarScore.tolist())\n",
    "        if (probeIdx+1)%10==0:\n",
    "            sys.stdout.write('\\r%3d/%d, '%(probeIdx+1,len(probes))+probeName)\n",
    "            sys.stdout.flush()\n",
    "    #we get scoreList, then cal predictLists\n",
    "    predictLists=[]\n",
    "    for score in scoreList:\n",
    "        probeRankList=np.argsort(score)[::-1]\n",
    "        predictLists.append(probeRankList)\n",
    "    finish=clock()\n",
    "    print('\\r  Processing %dx%d pairs cost %f second time'%(len(probes),len(gallerys),(finish-start)))\n",
    "    return scoreList,predictLists\n",
    "\n",
    "def calCMC(net,set_no,rand_times=10):\n",
    "    from cmc import evaluateCMC\n",
    "\n",
    "\n",
    "    #rand 10 times for stable result\n",
    "    cmc_list=[]\n",
    "    for i in range(rand_times):\n",
    "        print 'Round %d with rand list:'%i\n",
    "        probes,gallerys=readList(list_name)\n",
    "        scoreList,predictLists=generateScoreList(net,probes,gallerys)\n",
    "        gtLabels=range(len(probes))\n",
    "        cmc=evaluateCMC(gtLabels,predictLists)\n",
    "        cmc_list.append(cmc)\n",
    "    return np.average(cmc_list,axis=0)\n",
    "\n",
    "def getCVPRcmc():\n",
    "    #return the cmc values, 100 dim vetor\n",
    "    import numpy as np\n",
    "    cmcIndex=[0,4,8,12,16,21,25,29,33,37,41,45,49,53]\n",
    "    cmcOfCVPRImproved=[0.5474,0.8753,0.9293,0.9712,0.9764,0.9811,0.9899,0.9901,0.9912,0.9922,0.9937,0.9945,0.9951,1]\n",
    "    pOfCVPRImproved = np.poly1d(np.polyfit(cmcIndex,cmcOfCVPRImproved,10))\n",
    "    x_line=range(50)\n",
    "    cmc=pOfCVPRImproved(x_line)\n",
    "    return cmc\n"
   ]
  },
  {
   "cell_type": "code",
   "execution_count": 4,
   "metadata": {
    "collapsed": false
   },
   "outputs": [
    {
     "name": "stdout",
     "output_type": "stream",
     "text": [
      "971\n",
      "['../../dataset/cuhk01/cuhk01/0003001.png', '../../dataset/cuhk01/cuhk01/0003003.png', '../../dataset/cuhk01/cuhk01/0003002.png', '../../dataset/cuhk01/cuhk01/0003004.png']\n"
     ]
    }
   ],
   "source": [
    "name_dict={}\n",
    "\n",
    "for name in file_list_a:\n",
    "    if name[-3:]=='png':\n",
    "        id = name[:4]\n",
    "        if not name_dict.has_key(id):\n",
    "            name_dict[id]=[]\n",
    "        name_dict[id].append(DATA_DIR+name)  \n",
    "\n",
    "print len(name_dict)\n",
    "print name_dict['0003']"
   ]
  },
  {
   "cell_type": "code",
   "execution_count": 5,
   "metadata": {
    "collapsed": false
   },
   "outputs": [
    {
     "name": "stdout",
     "output_type": "stream",
     "text": [
      "../../dataset/cuhk01/exp_set/testid100_set01_test.txt\n",
      "100\n"
     ]
    }
   ],
   "source": [
    "# choose test ids:\n",
    "test_id_number = 486\n",
    "set_no = 1\n",
    "phase = 'test'\n",
    "filename_test = '../../dataset/cuhk01/exp_set/testid%03d_set%02d_%s.txt'%(test_id_number,(set_no),phase)\n",
    "print filename_test\n",
    "\n",
    "file_object = open(filename_test)\n",
    "try:\n",
    "    all_the_text = file_object.read( )\n",
    "finally:\n",
    "    file_object.close( )\n",
    "\n",
    "test_dict = {}\n",
    "\n",
    "lines = all_the_text.split('\\n')\n",
    "for filename in lines:\n",
    "    if filename!='':\n",
    "        if name_dict.has_key(filename):\n",
    "            test_dict[filename] = name_dict[filename]\n",
    "print len(test_dict)"
   ]
  },
  {
   "cell_type": "code",
   "execution_count": 6,
   "metadata": {
    "collapsed": true
   },
   "outputs": [],
   "source": [
    "cmcDict={}\n",
    "cmc_list=[]"
   ]
  },
  {
   "cell_type": "code",
   "execution_count": 7,
   "metadata": {
    "collapsed": false
   },
   "outputs": [
    {
     "name": "stdout",
     "output_type": "stream",
     "text": [
      "../../dataset/cuhk01/exp_set/testid100_set01_test.txt\n",
      "100\n",
      "100\n",
      "Round 0 with rand list:\n",
      "  Processing 100x100 pairs cost 16.683690 second time\n",
      "Round 1 with rand list:\n",
      "  Processing 100x100 pairs cost 16.724917 second time\n",
      "Round 2 with rand list:\n",
      "  Processing 100x100 pairs cost 16.753596 second time\n",
      "Round 3 with rand list:\n",
      "  Processing 100x100 pairs cost 18.642673 second time\n",
      "Round 4 with rand list:\n",
      "  Processing 100x100 pairs cost 18.293788 second time\n",
      "Round 5 with rand list:\n",
      "  Processing 100x100 pairs cost 18.520216 second time\n",
      "Round 6 with rand list:\n",
      "  Processing 100x100 pairs cost 18.359218 second time\n"
     ]
    }
   ],
   "source": [
    "# choose test ids:\n",
    "test_id_number = 100\n",
    "set_no = 1\n",
    "phase = 'test'\n",
    "filename_test = '../../dataset/cuhk01/exp_set/testid%03d_set%02d_%s.txt'%(test_id_number,(set_no),phase)\n",
    "print filename_test\n",
    "\n",
    "file_object = open(filename_test)\n",
    "try:\n",
    "    all_the_text = file_object.read( )\n",
    "finally:\n",
    "    file_object.close( )\n",
    "\n",
    "test_dict = {}\n",
    "\n",
    "lines = all_the_text.split('\\n')\n",
    "for filename in lines:\n",
    "    if filename!='':\n",
    "        if name_dict.has_key(filename):\n",
    "            test_dict[filename] = name_dict[filename]\n",
    "print len(test_dict)\n",
    "key_list = []\n",
    "for key in test_dict.keys():\n",
    "    key_list.append(key)\n",
    "\n",
    "key_list_shuffle = key_list[:]\n",
    "random.shuffle(key_list_shuffle)\n",
    "probes,gallerys=readList(key_list_shuffle[:],test_dict)#\n",
    "print len(key_list)\n",
    "from cmc import evaluateCMC\n",
    "MODEL_FILE = '../../experiments/reid_earlyfusion_google_bigmap/set01/deploy.prototxt'\n",
    "PRETRAINED = '../../experiments/reid_earlyfusion_google_bigmap_cuhk03market/set01/Snapshots/set01_google_iter_30000.caffemodel'\n",
    "caffe.set_device(0)\n",
    "caffe.set_mode_gpu()\n",
    "net = caffe.Classifier(MODEL_FILE, PRETRAINED,caffe.TEST)\n",
    "for i in range(7):\n",
    "    print 'Round %d with rand list:'%i\n",
    "    key_list_shuffle = key_list[:]\n",
    "    random.shuffle(key_list_shuffle)\n",
    "    probes,gallerys=readList(key_list_shuffle[:],name_dict)\n",
    "    scoreList,predictLists=generateScoreList(net,probes,gallerys)\n",
    "    gtLabels=range(len(probes))\n",
    "    cmc=evaluateCMC(gtLabels,predictLists)\n",
    "    cmc_list.append(cmc)\n",
    "    "
   ]
  },
  {
   "cell_type": "code",
   "execution_count": 8,
   "metadata": {
    "collapsed": false
   },
   "outputs": [
    {
     "name": "stdout",
     "output_type": "stream",
     "text": [
      "[ 0.69142857  0.77142857  0.82142857  0.84428571  0.85714286  0.88571429\n",
      "  0.89428571  0.90428571  0.90857143  0.91571429  0.92        0.93428571\n",
      "  0.94285714  0.94428571  0.95        0.96        0.96428571  0.97\n",
      "  0.97714286  0.98        0.98285714  0.98428571  0.99        0.99142857\n",
      "  0.99142857  0.99142857  0.99142857  0.99428571  0.99428571  0.99428571\n",
      "  0.99428571  0.99571429  0.99571429  0.99714286  0.99714286  0.99714286\n",
      "  0.99714286  0.99714286  0.99714286  0.99857143  1.          1.          1.\n",
      "  1.          1.          1.          1.          1.          1.          1.\n",
      "  1.          1.          1.          1.          1.          1.          1.\n",
      "  1.          1.          1.          1.          1.          1.          1.\n",
      "  1.          1.          1.          1.          1.          1.          1.\n",
      "  1.          1.          1.          1.          1.          1.          1.\n",
      "  1.          1.          1.          1.          1.          1.          1.\n",
      "  1.          1.          1.          1.          1.          1.          1.\n",
      "  1.          1.          1.          1.          1.          1.          1.\n",
      "  1.        ]\n"
     ]
    }
   ],
   "source": [
    "print np.average(cmc_list[:],axis=0)"
   ]
  },
  {
   "cell_type": "code",
   "execution_count": 97,
   "metadata": {
    "collapsed": false
   },
   "outputs": [
    {
     "name": "stdout",
     "output_type": "stream",
     "text": [
      "[ 0.51   0.595  0.64   0.675  0.7    0.72   0.74   0.754  0.769  0.786\n",
      "  0.803  0.811  0.82   0.824  0.829  0.834  0.837  0.84   0.843  0.845\n",
      "  0.853  0.855  0.86   0.862  0.864  0.871  0.876  0.877  0.879  0.88\n",
      "  0.882  0.886  0.889  0.892  0.895  0.897  0.903  0.906  0.908  0.909\n",
      "  0.912  0.914  0.919  0.925  0.927  0.93   0.933  0.938  0.942  0.949\n",
      "  0.957  0.961  0.963  0.966  0.967  0.968  0.968  0.969  0.972  0.972\n",
      "  0.973  0.973  0.973  0.974  0.975  0.977  0.978  0.978  0.981  0.981\n",
      "  0.981  0.981  0.981  0.982  0.985  0.986  0.988  0.989  0.99   0.991\n",
      "  0.992  0.992  0.992  0.992  0.994  0.996  0.997  0.998  0.999  1.     1.\n",
      "  1.     1.     1.     1.     1.     1.     1.     1.     1.   ]\n"
     ]
    }
   ],
   "source": [
    "cmc_all = np.average(cmc_list[10:20],axis=0)\n",
    "print cmc_all\n",
    "cmcDict['ours (GN, no hnm)'] = cmc_all"
   ]
  },
  {
   "cell_type": "code",
   "execution_count": 59,
   "metadata": {
    "collapsed": true
   },
   "outputs": [],
   "source": [
    "cmc_list=[]"
   ]
  },
  {
   "cell_type": "code",
   "execution_count": 60,
   "metadata": {
    "collapsed": false
   },
   "outputs": [
    {
     "name": "stdout",
     "output_type": "stream",
     "text": [
      "../../dataset/cuhk01/exp_set/testid100_set01_test.txt\n",
      "100\n",
      "100\n",
      "Round 0 with rand list:\n",
      "  Processing 100x100 pairs cost 11.929294 second time\n",
      "Round 1 with rand list:\n",
      "  Processing 100x100 pairs cost 12.263121 second time\n",
      "Round 2 with rand list:\n",
      "  Processing 100x100 pairs cost 12.509367 second time\n",
      "Round 3 with rand list:\n",
      "  Processing 100x100 pairs cost 12.641586 second time\n",
      "Round 4 with rand list:\n",
      "  Processing 100x100 pairs cost 12.400043 second time\n",
      "Round 5 with rand list:\n",
      "  Processing 100x100 pairs cost 12.426499 second time\n",
      "Round 6 with rand list:\n",
      "  Processing 100x100 pairs cost 12.395850 second time\n",
      "Round 7 with rand list:\n",
      "  Processing 100x100 pairs cost 12.308207 second time\n",
      "Round 8 with rand list:\n",
      "  Processing 100x100 pairs cost 12.359304 second time\n",
      "Round 9 with rand list:\n",
      "  Processing 100x100 pairs cost 12.366010 second time\n"
     ]
    }
   ],
   "source": [
    "# choose test ids:\n",
    "test_id_number = 100\n",
    "set_no = 1\n",
    "phase = 'test'\n",
    "filename_test = '../../dataset/cuhk01/exp_set/testid%03d_set%02d_%s.txt'%(test_id_number,(set_no),phase)\n",
    "print filename_test\n",
    "\n",
    "file_object = open(filename_test)\n",
    "try:\n",
    "    all_the_text = file_object.read( )\n",
    "finally:\n",
    "    file_object.close( )\n",
    "\n",
    "test_dict = {}\n",
    "\n",
    "lines = all_the_text.split('\\n')\n",
    "for filename in lines:\n",
    "    if filename!='':\n",
    "        if name_dict.has_key(filename):\n",
    "            test_dict[filename] = name_dict[filename]\n",
    "print len(test_dict)\n",
    "key_list = []\n",
    "for key in test_dict.keys():\n",
    "    key_list.append(key)\n",
    "\n",
    "key_list_shuffle = key_list[:]\n",
    "random.shuffle(key_list_shuffle)\n",
    "probes,gallerys=readList(key_list_shuffle[:],test_dict)\n",
    "print len(key_list)\n",
    "from cmc import evaluateCMC\n",
    "MODEL_FILE = '../../experiments/reid_earlyfusion_google_cuhk01/set01/deploy.prototxt'\n",
    "PRETRAINED = '../../experiments/reid_earlyfusion_google_cuhk01/set01/Snapshots/set01_round3_iter_12586.caffemodel'\n",
    "caffe.set_device(1)\n",
    "caffe.set_mode_gpu()\n",
    "net = caffe.Classifier(MODEL_FILE, PRETRAINED,caffe.TEST)\n",
    "for i in range(10):\n",
    "    print 'Round %d with rand list:'%i\n",
    "    key_list_shuffle = key_list[:]\n",
    "    random.shuffle(key_list_shuffle)\n",
    "    probes,gallerys=readList(key_list_shuffle[:],name_dict)\n",
    "    scoreList,predictLists=generateScoreList(net,probes,gallerys)\n",
    "    gtLabels=range(len(probes))\n",
    "    cmc=evaluateCMC(gtLabels,predictLists)\n",
    "    cmc_list.append(cmc)"
   ]
  },
  {
   "cell_type": "code",
   "execution_count": 61,
   "metadata": {
    "collapsed": false
   },
   "outputs": [
    {
     "name": "stdout",
     "output_type": "stream",
     "text": [
      "[ 0.896  0.957  0.965  0.97   0.978  0.982  0.985  0.986  0.988  0.989\n",
      "  0.989  0.989  0.989  0.989  0.989  0.991  0.992  0.992  0.992  0.992\n",
      "  0.992  0.992  0.993  0.994  0.997  0.999  1.     1.     1.     1.     1.\n",
      "  1.     1.     1.     1.     1.     1.     1.     1.     1.     1.     1.\n",
      "  1.     1.     1.     1.     1.     1.     1.     1.     1.     1.     1.\n",
      "  1.     1.     1.     1.     1.     1.     1.     1.     1.     1.     1.\n",
      "  1.     1.     1.     1.     1.     1.     1.     1.     1.     1.     1.\n",
      "  1.     1.     1.     1.     1.     1.     1.     1.     1.     1.     1.\n",
      "  1.     1.     1.     1.     1.     1.     1.     1.     1.     1.     1.\n",
      "  1.     1.     1.   ]\n"
     ]
    }
   ],
   "source": [
    "cmc_all = np.average(cmc_list[:],axis=0)\n",
    "print cmc_all\n",
    "cmcDict['ours (GN, hnm)'] = cmc_all"
   ]
  },
  {
   "cell_type": "code",
   "execution_count": 11,
   "metadata": {
    "collapsed": false
   },
   "outputs": [],
   "source": [
    "cmcDict={}\n",
    "import scipy.io as sio\n",
    "data = sio.loadmat('/mnt/share/Temp/reid_mat/cuhk01_100ID.mat')['data']\n",
    "from eval_cuhk03 import plotCMC\n",
    "\n",
    "cmcDict['ImprovedDL'] = data[0]\n",
    "cmcDict['KISSME'] = data[1]\n",
    "# cmcDict['eSDC'] = data[2]\n",
    "#cmcDict['SDALF'] = data[3]\n",
    "cmcDict['LDM'] = data[4]\n",
    "#cmcDict['RANK'] = data[5]\n",
    "cmcDict['LMNN'] = data[6]\n",
    "#cmcDict['ITML'] = data[7]\n",
    "#cmcDict['Euclid'] = data[8]\n",
    "cmcDict['FPNN'] = data[9]\n",
    "cmcDict['DCSL (GN, hnm)']=load_list['ours (GN, hnm)']\n",
    "cmcDict['DCSL (GN, no hnm)']=load_list['ours (GN, no hnm)']\n",
    "#plot the dictionary, sorted by rank1 rate\n",
    "\n",
    "save_path = 'cuhk01_id100_set01.png'\n"
   ]
  },
  {
   "cell_type": "code",
   "execution_count": 12,
   "metadata": {
    "collapsed": false
   },
   "outputs": [
    {
     "data": {
      "image/png": "[encoded data removed]",
      "text/plain": [
       "<matplotlib.figure.Figure at 0x7f83e95a70d0>"
      ]
     },
     "metadata": {},
     "output_type": "display_data"
    }
   ],
   "source": [
    "plotCMC(cmcDict,save_path)"
   ]
  },
  {
   "cell_type": "code",
   "execution_count": 67,
   "metadata": {
    "collapsed": false
   },
   "outputs": [],
   "source": [
    "import pickle\n",
    "cmcDict_bk = cmcDict\n",
    "f1 = open(\"res_cuhk01_100id.txt\",\"wb\")\n",
    "pickle.dump(cmcDict, f1)\n",
    "f1.close()\n"
   ]
  },
  {
   "cell_type": "markdown",
   "metadata": {},
   "source": [
    "# READ"
   ]
  },
  {
   "cell_type": "code",
   "execution_count": 10,
   "metadata": {
    "collapsed": false
   },
   "outputs": [
    {
     "data": {
      "image/png": "[encoded data removed]",
      "text/plain": [
       "<matplotlib.figure.Figure at 0x7f83e9ff8c50>"
      ]
     },
     "metadata": {},
     "output_type": "display_data"
    }
   ],
   "source": [
    "import pickle\n",
    "from eval_cuhk03 import plotCMC\n",
    "f2 = open(\"res_cuhk01_100id.txt\",\"rb\")\n",
    "load_list = pickle.load(f2)\n",
    "f2.close()\n",
    "save_path = '../../paper/cuhk01_100ID.png'\n",
    "plotCMC(load_list,save_path)"
   ]
  },
  {
   "cell_type": "code",
   "execution_count": 75,
   "metadata": {
    "collapsed": false
   },
   "outputs": [
    {
     "name": "stdout",
     "output_type": "stream",
     "text": [
      "[['ours (GN, hnm)', 89.600000000000009, 95.699999999999989, 97.799999999999997, 98.900000000000006], ['ImprovedDL', 65.0, 75.0, 89.0, 94.0], ['KISSME', 29.400750000000002, 41.744250000000008, 60.175500000000007, 74.443750000000023], ['FPNN', 27.872727238227448, 40.643512596283919, 59.637033384537666, 73.529467481223634], ['LDM', 26.445999999999998, 39.068999999999996, 57.686999999999991, 72.784999999999982]]\n"
     ]
    }
   ],
   "source": [
    "from tabulate import tabulate\n",
    "import scipy.io as sio\n",
    "\n",
    "load_dict = dict(load_list)\n",
    "\n",
    "data = sio.loadmat('/mnt/share/Temp/reid_mat/cuhk01_100ID.mat')['data']\n",
    "\n",
    "load_dict['ImprovedDL'] = data[0]\n",
    "load_dict['KISSME'] = data[1]\n",
    "# cmcDict['eSDC'] = data[2]\n",
    "#cmcDict['SDALF'] = data[3]\n",
    "load_dict['LDM'] = data[4]\n",
    "#cmcDict['RANK'] = data[5]\n",
    "load_dict['LMNN'] = data[6]\n",
    "#cmcDict['ITML'] = data[7]\n",
    "#cmcDict['Euclid'] = data[8]\n",
    "load_dict['FPNN'] = data[9]\n",
    "\n",
    "methods = ['ours (GN, hnm)','ImprovedDL','KISSME','FPNN','LDM']\n",
    "table = []\n",
    "for mtd in methods:\n",
    "    this_list = []\n",
    "    this_list.append(mtd)\n",
    "    this_list.append(load_dict[mtd][0]*100)\n",
    "    this_list.append(load_dict[mtd][1]*100)\n",
    "    this_list.append(load_dict[mtd][4]*100)\n",
    "    this_list.append(load_dict[mtd][9]*100)\n",
    "    table.append(this_list)\n",
    "\n",
    "print table"
   ]
  },
  {
   "cell_type": "code",
   "execution_count": 76,
   "metadata": {
    "collapsed": false
   },
   "outputs": [
    {
     "name": "stdout",
     "output_type": "stream",
     "text": [
      "\\begin{tabular}{lrrrr}\n",
      "\\hline\n",
      " Method         &   r = 1 &   r = 2 &   r = 5 &   r = 10 \\\\\n",
      "\\hline\n",
      " ours (GN, hnm) &   89.60 &   95.70 &   97.80 &    98.90 \\\\\n",
      " ImprovedDL     &   65.00 &   75.00 &   89.00 &    94.00 \\\\\n",
      " KISSME         &   29.40 &   41.74 &   60.18 &    74.44 \\\\\n",
      " FPNN           &   27.87 &   40.64 &   59.64 &    73.53 \\\\\n",
      " LDM            &   26.45 &   39.07 &   57.69 &    72.78 \\\\\n",
      "\\hline\n",
      "\\end{tabular}\n"
     ]
    }
   ],
   "source": [
    "print tabulate(table,headers=[\"Method\",\"r = 1\", \"r = 2\", \"r = 5\", \"r = 10\"], tablefmt=\"latex\",floatfmt=\".2f\")"
   ]
  },
  {
   "cell_type": "code",
   "execution_count": null,
   "metadata": {
    "collapsed": true
   },
   "outputs": [],
   "source": []
  }
 ],
 "metadata": {
  "kernelspec": {
   "display_name": "Python 2",
   "language": "python",
   "name": "python2"
  },
  "language_info": {
   "codemirror_mode": {
    "name": "ipython",
    "version": 2
   },
   "file_extension": ".py",
   "mimetype": "text/x-python",
   "name": "python",
   "nbconvert_exporter": "python",
   "pygments_lexer": "ipython2",
   "version": "2.7.6"
  }
 },
 "nbformat": 4,
 "nbformat_minor": 0
}
