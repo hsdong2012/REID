{
 "cells": [
  {
   "cell_type": "code",
   "execution_count": 1,
   "metadata": {
    "collapsed": true
   },
   "outputs": [],
   "source": [
    "import numpy as np\n",
    "root = '../../'\n",
    "caffe_root = root + 'caffe/'  # this file is expected to be in {caffe_root}/examples\n",
    "import sys\n",
    "sys.path.insert(0, caffe_root + 'python')\n",
    "import caffe\n",
    "import os\n",
    "import random"
   ]
  },
  {
   "cell_type": "code",
   "execution_count": 2,
   "metadata": {
    "collapsed": false
   },
   "outputs": [],
   "source": [
    "DATA_DIR='../../dataset/i-LIDS/data/'\n",
    "file_list_a=os.listdir(DATA_DIR)"
   ]
  },
  {
   "cell_type": "code",
   "execution_count": 29,
   "metadata": {
    "collapsed": false
   },
   "outputs": [
    {
     "name": "stdout",
     "output_type": "stream",
     "text": [
      "119\n",
      "[['../../dataset/i-LIDS/data/0010001.jpg'], ['../../dataset/i-LIDS/data/0010002.jpg'], ['../../dataset/i-LIDS/data/0010003.jpg'], ['../../dataset/i-LIDS/data/0010004.jpg'], [], [], [], []]\n"
     ]
    }
   ],
   "source": [
    "name_dict={}\n",
    "for name in file_list_a:\n",
    "    if name[-3:]=='jpg':\n",
    "        id = name[:4]\n",
    "        view = int(name[4:7])\n",
    "        if not name_dict.has_key(id):\n",
    "            name_dict[id]=[]\n",
    "            name_dict[id].append([])\n",
    "            name_dict[id].append([])\n",
    "            name_dict[id].append([])\n",
    "            name_dict[id].append([])\n",
    "            name_dict[id].append([])\n",
    "            name_dict[id].append([])\n",
    "            name_dict[id].append([])\n",
    "            name_dict[id].append([])\n",
    "        name_dict[id][view-1].append(DATA_DIR+name)  \n",
    "\n",
    "print len(name_dict)\n",
    "print name_dict['0010']"
   ]
  },
  {
   "cell_type": "code",
   "execution_count": 76,
   "metadata": {
    "collapsed": false
   },
   "outputs": [
    {
     "name": "stdout",
     "output_type": "stream",
     "text": [
      "../../dataset/i-LIDS/exp_set/testid059_set01_test.txt\n",
      "59\n"
     ]
    }
   ],
   "source": [
    "# choose test ids:\n",
    "test_id_number = 59\n",
    "set_no = 1\n",
    "phase = 'test'\n",
    "filename_test = '../../dataset/i-LIDS/exp_set/testid%03d_set%02d_%s.txt'%(test_id_number,(set_no),phase)\n",
    "print filename_test\n",
    "\n",
    "file_object = open(filename_test)\n",
    "try:\n",
    "    all_the_text = file_object.read( )\n",
    "finally:\n",
    "    file_object.close( )\n",
    "\n",
    "test_dict = {}\n",
    "\n",
    "lines = all_the_text.split('\\n')\n",
    "for filename in lines:\n",
    "    if filename!='':\n",
    "        if name_dict.has_key(filename):\n",
    "            test_dict[filename] = name_dict[filename]\n",
    "print len(test_dict)"
   ]
  },
  {
   "cell_type": "code",
   "execution_count": 77,
   "metadata": {
    "collapsed": true
   },
   "outputs": [],
   "source": [
    "def readList(name_list,name_dict): \n",
    "    import random\n",
    "    import os\n",
    "    probes=[]\n",
    "    gallerys=[]\n",
    "    for key in name_list:\n",
    "        rand_view = random.randint(0,len(name_dict[key])-1)\n",
    "        #print rand_view,name_dict[key][rand_view]\n",
    "        while len(name_dict[key][rand_view])==0:\n",
    "            rand_view = random.randint(0,len(name_dict[key])-1)\n",
    "        \n",
    "        rand_view_pair = random.randint(0,len(name_dict[key])-1)\n",
    "        #print rand_view_pair,name_dict[key][rand_view_pair]\n",
    "        while len(name_dict[key][rand_view_pair])==0 or rand_view_pair == rand_view:\n",
    "            rand_view_pair = random.randint(0,len(name_dict[key])-1)\n",
    "        probes.append(name_dict[key][rand_view][0])\n",
    "        gallerys.append(name_dict[key][rand_view_pair][0])\n",
    "        \n",
    "    if len(probes)!=len(gallerys):\n",
    "        print('something wrong! list length does not match!/n')\n",
    "        return 0\n",
    "    else:\n",
    "        return probes,gallerys\n",
    "def generateScoreList(net,probes,gallerys):\n",
    "    transformer = caffe.io.Transformer({'data': (net.blobs['data'].data.shape)})\n",
    "    transformer.set_transpose('data', (2,0,1))\n",
    "    transformer.set_mean('data', np.array([ 104.00698793,  116.66876762,  122.67891434])) # mean pixel\n",
    "    transformer.set_raw_scale('data', 255)  # the reference model operates on images in [0,255] range instead of [0,1]\n",
    "    transformer.set_channel_swap('data', (2,1,0))  # the reference model has channels in BGR order instead of RGB\n",
    "    \n",
    "    scoreList=[]\n",
    "    N,C,H,W=net.blobs['data'].data.shape\n",
    "    from time import clock\n",
    "    start=clock()\n",
    "    #galleryData is same for each probe\n",
    "    galleryLen=len(gallerys)\n",
    "    galleryDataList=[]\n",
    "    for galleryIdx in range(galleryLen):\n",
    "        galleryName=gallerys[galleryIdx]\n",
    "        galleryImage=transformer.preprocess('data', caffe.io.load_image(galleryName))\n",
    "        galleryDataList.append(galleryImage)\n",
    "        galleryIdx+=1\n",
    "    #galleryData and probeData\n",
    "    galleryData=np.asarray(galleryDataList)\n",
    "    probeData=np.zeros((galleryLen,C,H,W))\n",
    "    \n",
    "    net.blobs['data'].reshape(galleryLen,C,H,W)\n",
    "    net.blobs['data_p'].reshape(galleryLen,C,H,W)\n",
    "    #process each probe\n",
    "    for probeIdx in range(len(probes)):\n",
    "        probeName=probes[probeIdx]\n",
    "        probeImage=transformer.preprocess('data', caffe.io.load_image(probeName))\n",
    "        #batch data assignment\n",
    "        probeData[:,:,:,:]=probeImage\n",
    "        net.blobs['data'].data[:] = probeData\n",
    "        net.blobs['data_p'].data[:] = galleryData\n",
    "        #net forwad\n",
    "        net.forward()\n",
    "        #get output score\n",
    "        outScore=net.blobs['softmax_score'].data[:,(0,1)]    #softmax_score[0] and softmax_score[1]\n",
    "        score_sum=np.exp(outScore[:,0]*1.0)+np.exp(outScore[:,1]*1.0)\n",
    "        similarScore=outScore[:,1]#np.exp(outScore[:,1]*1.0)/score_sum\n",
    "        #scoreList.append each probe score\n",
    "        scoreList.append(similarScore.tolist())\n",
    "        if (probeIdx+1)%10==0:\n",
    "            sys.stdout.write('\\r%3d/%d, '%(probeIdx+1,len(probes))+probeName)\n",
    "            sys.stdout.flush()\n",
    "    #we get scoreList, then cal predictLists\n",
    "    predictLists=[]\n",
    "    for score in scoreList:\n",
    "        probeRankList=np.argsort(score)[::-1]\n",
    "        predictLists.append(probeRankList)\n",
    "    finish=clock()\n",
    "    print('\\r  Processing %dx%d pairs cost %f second time'%(len(probes),len(gallerys),(finish-start)))\n",
    "    return scoreList,predictLists\n",
    "\n",
    "def calCMC(net,set_no,rand_times=10):\n",
    "    from cmc import evaluateCMC\n",
    "\n",
    "\n",
    "    #rand 10 times for stable result\n",
    "    cmc_list=[]\n",
    "    for i in range(rand_times):\n",
    "        print 'Round %d with rand list:'%i\n",
    "        probes,gallerys=readList(list_name)\n",
    "        scoreList,predictLists=generateScoreList(net,probes,gallerys)\n",
    "        gtLabels=range(len(probes))\n",
    "        cmc=evaluateCMC(gtLabels,predictLists)\n",
    "        cmc_list.append(cmc)\n",
    "    return np.average(cmc_list,axis=0)\n",
    "\n",
    "def getCVPRcmc():\n",
    "    #return the cmc values, 100 dim vetor\n",
    "    import numpy as np\n",
    "    cmcIndex=[0,4,8,12,16,21,25,29,33,37,41,45,49,53]\n",
    "    cmcOfCVPRImproved=[0.5474,0.8753,0.9293,0.9712,0.9764,0.9811,0.9899,0.9901,0.9912,0.9922,0.9937,0.9945,0.9951,1]\n",
    "    pOfCVPRImproved = np.poly1d(np.polyfit(cmcIndex,cmcOfCVPRImproved,10))\n",
    "    x_line=range(50)\n",
    "    cmc=pOfCVPRImproved(x_line)\n",
    "    return cmc\n"
   ]
  },
  {
   "cell_type": "code",
   "execution_count": 105,
   "metadata": {
    "collapsed": true
   },
   "outputs": [],
   "source": [
    "MODEL_FILE = '../../experiments/reid_earlyfusion/set01/deploy.prototxt'\n",
    "PRETRAINED = '../../experiments/reid_earlyfusion/set01/Snapshots/set01_alex_ilids_iter_9327.caffemodel'\n",
    "caffe.set_device(1)\n",
    "caffe.set_mode_gpu()\n",
    "net = caffe.Classifier(MODEL_FILE, PRETRAINED,caffe.TEST)"
   ]
  },
  {
   "cell_type": "code",
   "execution_count": 106,
   "metadata": {
    "collapsed": false
   },
   "outputs": [
    {
     "name": "stdout",
     "output_type": "stream",
     "text": [
      "59\n"
     ]
    }
   ],
   "source": [
    "key_list = []\n",
    "for key in test_dict.keys():\n",
    "    key_list.append(key)\n",
    "\n",
    "key_list_shuffle = key_list[:]\n",
    "random.shuffle(key_list_shuffle)\n",
    "probes,gallerys=readList(key_list_shuffle[:],test_dict)\n",
    "print len(key_list)"
   ]
  },
  {
   "cell_type": "code",
   "execution_count": 107,
   "metadata": {
    "collapsed": true
   },
   "outputs": [],
   "source": [
    "from cmc import evaluateCMC\n",
    "cmcDict = {}"
   ]
  },
  {
   "cell_type": "code",
   "execution_count": 108,
   "metadata": {
    "collapsed": false
   },
   "outputs": [
    {
     "name": "stdout",
     "output_type": "stream",
     "text": [
      "  Processing 59x59 pairs cost 9.139190 second time\n",
      "  Processing 59x59 pairs cost 9.843145 second time\n",
      "  Processing 59x59 pairs cost 9.586630 second time\n",
      "  Processing 59x59 pairs cost 9.249707 second time\n",
      "  Processing 59x59 pairs cost 9.526475 second time\n",
      "  Processing 59x59 pairs cost 9.509310 second time\n",
      "  Processing 59x59 pairs cost 7.220558 second time\n",
      "  Processing 59x59 pairs cost 5.011225 second time\n",
      "  Processing 59x59 pairs cost 4.979190 second time\n",
      "  Processing 59x59 pairs cost 5.074736 second time\n"
     ]
    }
   ],
   "source": [
    "cmc_list=[]\n",
    "from cmc import evaluateCMC\n",
    "for i in range(10):\n",
    "    key_list_shuffle = key_list[:]\n",
    "    random.shuffle(key_list_shuffle)\n",
    "    probes,gallerys=readList(key_list_shuffle[:59],name_dict)\n",
    "    scoreList,predictLists=generateScoreList(net,probes,gallerys)\n",
    "    gtLabels=range(len(probes))\n",
    "    cmc=evaluateCMC(gtLabels,predictLists)\n",
    "    cmc_list.append(cmc)"
   ]
  },
  {
   "cell_type": "code",
   "execution_count": 109,
   "metadata": {
    "collapsed": false
   },
   "outputs": [
    {
     "data": {
      "text/plain": [
       "array([ 0.28644068,  0.44237288,  0.52033898,  0.56610169,  0.64237288,\n",
       "        0.69152542,  0.7220339 ,  0.74067797,  0.76779661,  0.79152542,\n",
       "        0.81694915,  0.82881356,  0.83220339,  0.8440678 ,  0.85932203,\n",
       "        0.87457627,  0.88644068,  0.89491525,  0.90169492,  0.91186441,\n",
       "        0.9220339 ,  0.92711864,  0.93898305,  0.94745763,  0.95084746,\n",
       "        0.9559322 ,  0.95762712,  0.95932203,  0.96101695,  0.96610169,\n",
       "        0.97457627,  0.9779661 ,  0.97966102,  0.98305085,  0.98474576,\n",
       "        0.98644068,  0.98644068,  0.98644068,  0.98813559,  0.98813559,\n",
       "        0.98813559,  0.98813559,  0.98813559,  0.98813559,  0.98983051,\n",
       "        0.98983051,  0.99322034,  0.99491525,  0.99661017,  0.99661017,\n",
       "        0.99830508,  0.99830508,  0.99830508,  1.        ,  1.        ,\n",
       "        1.        ,  1.        ,  1.        ,  1.        ])"
      ]
     },
     "execution_count": 109,
     "metadata": {},
     "output_type": "execute_result"
    }
   ],
   "source": [
    "np.average(cmc_list,axis=0)"
   ]
  },
  {
   "cell_type": "code",
   "execution_count": 47,
   "metadata": {
    "collapsed": false
   },
   "outputs": [
    {
     "ename": "NameError",
     "evalue": "name 'cmc_all' is not defined",
     "output_type": "error",
     "traceback": [
      "\u001b[1;31m---------------------------------------------------------------------------\u001b[0m",
      "\u001b[1;31mNameError\u001b[0m                                 Traceback (most recent call last)",
      "\u001b[1;32m<ipython-input-47-59e640133b8c>\u001b[0m in \u001b[0;36m<module>\u001b[1;34m()\u001b[0m\n\u001b[0;32m      1\u001b[0m \u001b[0mcmcDict\u001b[0m\u001b[1;33m=\u001b[0m\u001b[1;33m{\u001b[0m\u001b[1;33m}\u001b[0m\u001b[1;33m\u001b[0m\u001b[0m\n\u001b[0;32m      2\u001b[0m \u001b[0mcmcDict\u001b[0m\u001b[1;33m[\u001b[0m\u001b[1;34m'CVPR15Imp'\u001b[0m\u001b[1;33m]\u001b[0m\u001b[1;33m=\u001b[0m\u001b[0mgetCVPRcmc\u001b[0m\u001b[1;33m(\u001b[0m\u001b[1;33m)\u001b[0m\u001b[1;33m\u001b[0m\u001b[0m\n\u001b[1;32m----> 3\u001b[1;33m \u001b[0mcmcDict\u001b[0m\u001b[1;33m[\u001b[0m\u001b[1;34m'Our_HNM'\u001b[0m\u001b[1;33m]\u001b[0m\u001b[1;33m=\u001b[0m\u001b[0mcmc_all\u001b[0m\u001b[1;33m\u001b[0m\u001b[0m\n\u001b[0m\u001b[0;32m      4\u001b[0m \u001b[1;31m#plot the dictionary, sorted by rank1 rate\u001b[0m\u001b[1;33m\u001b[0m\u001b[1;33m\u001b[0m\u001b[0m\n\u001b[0;32m      5\u001b[0m \u001b[0mplotCMC\u001b[0m\u001b[1;33m(\u001b[0m\u001b[0mcmcDict\u001b[0m\u001b[1;33m)\u001b[0m\u001b[1;33m\u001b[0m\u001b[0m\n",
      "\u001b[1;31mNameError\u001b[0m: name 'cmc_all' is not defined"
     ]
    }
   ],
   "source": [
    "cmcDict={}\n",
    "cmcDict['CVPR15Imp']=getCVPRcmc()\n",
    "cmcDict['Our_HNM']=cmc_all\n",
    "#plot the dictionary, sorted by rank1 rate\n",
    "plotCMC(cmcDict)"
   ]
  },
  {
   "cell_type": "code",
   "execution_count": 18,
   "metadata": {
    "collapsed": false
   },
   "outputs": [
    {
     "ename": "RuntimeError",
     "evalue": "Could not open file ../../experiments/reid_simplemodel/set03/deploy.prototxt",
     "output_type": "error",
     "traceback": [
      "\u001b[1;31m---------------------------------------------------------------------------\u001b[0m",
      "\u001b[1;31mRuntimeError\u001b[0m                              Traceback (most recent call last)",
      "\u001b[1;32m<ipython-input-18-427ab33e5af7>\u001b[0m in \u001b[0;36m<module>\u001b[1;34m()\u001b[0m\n\u001b[0;32m    151\u001b[0m \u001b[1;33m\u001b[0m\u001b[0m\n\u001b[0;32m    152\u001b[0m \u001b[1;32mif\u001b[0m \u001b[0m__name__\u001b[0m \u001b[1;33m==\u001b[0m \u001b[1;34m'__main__'\u001b[0m\u001b[1;33m:\u001b[0m\u001b[1;33m\u001b[0m\u001b[0m\n\u001b[1;32m--> 153\u001b[1;33m     \u001b[0mmain\u001b[0m\u001b[1;33m(\u001b[0m\u001b[1;33m)\u001b[0m\u001b[1;33m\u001b[0m\u001b[0m\n\u001b[0m\u001b[0;32m    154\u001b[0m \u001b[1;33m\u001b[0m\u001b[0m\n",
      "\u001b[1;32m<ipython-input-18-427ab33e5af7>\u001b[0m in \u001b[0;36mmain\u001b[1;34m()\u001b[0m\n\u001b[0;32m    141\u001b[0m         \u001b[0mcaffe\u001b[0m\u001b[1;33m.\u001b[0m\u001b[0mset_device\u001b[0m\u001b[1;33m(\u001b[0m\u001b[1;36m0\u001b[0m\u001b[1;33m)\u001b[0m\u001b[1;33m\u001b[0m\u001b[0m\n\u001b[0;32m    142\u001b[0m         \u001b[0mcaffe\u001b[0m\u001b[1;33m.\u001b[0m\u001b[0mset_mode_gpu\u001b[0m\u001b[1;33m(\u001b[0m\u001b[1;33m)\u001b[0m\u001b[1;33m\u001b[0m\u001b[0m\n\u001b[1;32m--> 143\u001b[1;33m         \u001b[0mnet\u001b[0m \u001b[1;33m=\u001b[0m \u001b[0mcaffe\u001b[0m\u001b[1;33m.\u001b[0m\u001b[0mClassifier\u001b[0m\u001b[1;33m(\u001b[0m\u001b[0mMODEL_FILE\u001b[0m\u001b[1;33m,\u001b[0m \u001b[0mPRETRAINED\u001b[0m\u001b[1;33m,\u001b[0m\u001b[0mcaffe\u001b[0m\u001b[1;33m.\u001b[0m\u001b[0mTEST\u001b[0m\u001b[1;33m)\u001b[0m\u001b[1;33m\u001b[0m\u001b[0m\n\u001b[0m\u001b[0;32m    144\u001b[0m         \u001b[1;31m#caculate CMC\u001b[0m\u001b[1;33m\u001b[0m\u001b[1;33m\u001b[0m\u001b[0m\n\u001b[0;32m    145\u001b[0m         \u001b[0mcmc\u001b[0m\u001b[1;33m=\u001b[0m\u001b[0mcalCMC\u001b[0m\u001b[1;33m(\u001b[0m\u001b[0mnet\u001b[0m\u001b[1;33m,\u001b[0m\u001b[0mset_no\u001b[0m\u001b[1;33m,\u001b[0m\u001b[0mrand_times\u001b[0m\u001b[1;33m=\u001b[0m\u001b[1;36m10\u001b[0m\u001b[1;33m)\u001b[0m\u001b[1;33m\u001b[0m\u001b[0m\n",
      "\u001b[1;32m/mnt/disk01/reid/caffe/python/caffe/classifier.pyc\u001b[0m in \u001b[0;36m__init__\u001b[1;34m(self, model_file, pretrained_file, image_dims, mean, input_scale, raw_scale, channel_swap)\u001b[0m\n\u001b[0;32m     24\u001b[0m                  \u001b[0mmean\u001b[0m\u001b[1;33m=\u001b[0m\u001b[0mNone\u001b[0m\u001b[1;33m,\u001b[0m \u001b[0minput_scale\u001b[0m\u001b[1;33m=\u001b[0m\u001b[0mNone\u001b[0m\u001b[1;33m,\u001b[0m \u001b[0mraw_scale\u001b[0m\u001b[1;33m=\u001b[0m\u001b[0mNone\u001b[0m\u001b[1;33m,\u001b[0m\u001b[1;33m\u001b[0m\u001b[0m\n\u001b[0;32m     25\u001b[0m                  channel_swap=None):\n\u001b[1;32m---> 26\u001b[1;33m         \u001b[0mcaffe\u001b[0m\u001b[1;33m.\u001b[0m\u001b[0mNet\u001b[0m\u001b[1;33m.\u001b[0m\u001b[0m__init__\u001b[0m\u001b[1;33m(\u001b[0m\u001b[0mself\u001b[0m\u001b[1;33m,\u001b[0m \u001b[0mmodel_file\u001b[0m\u001b[1;33m,\u001b[0m \u001b[0mpretrained_file\u001b[0m\u001b[1;33m,\u001b[0m \u001b[0mcaffe\u001b[0m\u001b[1;33m.\u001b[0m\u001b[0mTEST\u001b[0m\u001b[1;33m)\u001b[0m\u001b[1;33m\u001b[0m\u001b[0m\n\u001b[0m\u001b[0;32m     27\u001b[0m \u001b[1;33m\u001b[0m\u001b[0m\n\u001b[0;32m     28\u001b[0m         \u001b[1;31m# configure pre-processing\u001b[0m\u001b[1;33m\u001b[0m\u001b[1;33m\u001b[0m\u001b[0m\n",
      "\u001b[1;31mRuntimeError\u001b[0m: Could not open file ../../experiments/reid_simplemodel/set03/deploy.prototxt"
     ]
    }
   ],
   "source": [
    "\n",
    "\n",
    "\n",
    "    #end of show\n",
    "    \n",
    "def main():\n",
    "    test_list=range(3,4) #use set 1-10 for test (total 20)\n",
    "    cmc_list=[]\n",
    "    for set_no in test_list:\n",
    "        #init net\n",
    "        MODEL_FILE = '../../experiments/reid_simplemodel/set%02d/'%(set_no)+'deploy.prototxt'\n",
    "        PRETRAINED = '../../experiments/reid_simplemodel/set%02d/'%(set_no)+'Snapshots/set%02d_iter_120000.caffemodel'%(set_no)\n",
    "        caffe.set_device(0)\n",
    "        caffe.set_mode_gpu()\n",
    "        net = caffe.Classifier(MODEL_FILE, PRETRAINED,caffe.TEST)\n",
    "        #caculate CMC\n",
    "        cmc=calCMC(net,set_no,rand_times=10)\n",
    "        cmc_list.append(cmc)\n",
    "    cmc_all=np.average(cmc_list,axis=0)\n",
    "    print('\\nCMC from rank 1 to rank %d:'%(len(cmc_all)))\n",
    "    print(cmc_all)\n",
    "    plotCMC(cmc)\n",
    "    \n",
    "if __name__ == '__main__':\n",
    "    main()\n",
    "\n"
   ]
  },
  {
   "cell_type": "code",
   "execution_count": null,
   "metadata": {
    "collapsed": true
   },
   "outputs": [],
   "source": []
  }
 ],
 "metadata": {
  "kernelspec": {
   "display_name": "Python 2",
   "language": "python",
   "name": "python2"
  },
  "language_info": {
   "codemirror_mode": {
    "name": "ipython",
    "version": 2
   },
   "file_extension": ".py",
   "mimetype": "text/x-python",
   "name": "python",
   "nbconvert_exporter": "python",
   "pygments_lexer": "ipython2",
   "version": "2.7.10"
  }
 },
 "nbformat": 4,
 "nbformat_minor": 0
}
