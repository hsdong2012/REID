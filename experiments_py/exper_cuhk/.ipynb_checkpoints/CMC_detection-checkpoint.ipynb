{
 "cells": [
  {
   "cell_type": "code",
   "execution_count": 1,
   "metadata": {
    "collapsed": false
   },
   "outputs": [
    {
     "name": "stdout",
     "output_type": "stream",
     "text": [
      "current work dir : /home/maochaojie/work/My_ReID\n"
     ]
    }
   ],
   "source": [
    "import os\n",
    "root = '../../'\n",
    "\n",
    "os.chdir(root)\n",
    "#from experiments.common_tools.cmc import evaluateCMC\n",
    "print 'current work dir : %s'%os.getcwd()\n",
    "caffe_root = 'caffe'\n",
    "commontool_root ='experiments/common_tools'\n",
    "import sys\n",
    "sys.path.insert(0,caffe_root+'/python')\n",
    "sys.path.insert(0,commontool_root)\n",
    "import caffe\n",
    "from experiments.common_tools.videoRead import *\n",
    "from experiments.common_tools.cmc_tools import *\n",
    "import numpy as np\n",
    "import time"
   ]
  },
  {
   "cell_type": "code",
   "execution_count": 2,
   "metadata": {
    "collapsed": false
   },
   "outputs": [
    {
     "name": "stdout",
     "output_type": "stream",
     "text": [
      "dataset/cuhk01/exp_set/testid486_set01_test.txt\n",
      "486\n"
     ]
    }
   ],
   "source": [
    "DATA_DIR='dataset/cuhk01/cuhk01/'\n",
    "file_list_a=os.listdir(DATA_DIR)\n",
    "name_dict={}\n",
    "\n",
    "for name in file_list_a:\n",
    "    if name[-3:]=='png':\n",
    "        id = name[:4]\n",
    "        if not name_dict.has_key(id):\n",
    "            name_dict[id]=[]\n",
    "        name_dict[id].append(DATA_DIR+name)  \n",
    "\n",
    "\n",
    "cmcDict={}\n",
    "cmc_list=[]\n",
    "\n",
    "# choose test ids:\n",
    "test_id_number = 486\n",
    "set_no = 1\n",
    "phase = 'test'\n",
    "filename_test = 'dataset/cuhk01/exp_set/testid%03d_set%02d_%s.txt'%(test_id_number,(set_no),phase)\n",
    "print filename_test\n",
    "\n",
    "file_object = open(filename_test)\n",
    "try:\n",
    "    all_the_text = file_object.read( )\n",
    "finally:\n",
    "    file_object.close( )\n",
    "\n",
    "test_dict = {}\n",
    "\n",
    "lines = all_the_text.split('\\n')\n",
    "for filename in lines:\n",
    "    if filename!='':\n",
    "        if name_dict.has_key(filename):\n",
    "            test_dict[filename] = name_dict[filename]\n",
    "print len(test_dict)\n",
    "key_list = []\n",
    "for key in test_dict.keys():\n",
    "    key_list.append(key)\n",
    "\n",
    "key_list_shuffle = key_list[:]\n",
    "random.shuffle(key_list_shuffle)\n",
    "probes,gallerys=readList(key_list_shuffle[:],test_dict,True)#"
   ]
  },
  {
   "cell_type": "code",
   "execution_count": 3,
   "metadata": {
    "collapsed": false
   },
   "outputs": [
    {
     "name": "stdout",
     "output_type": "stream",
     "text": [
      "data list is loading...\n",
      "data list is loading 100000\n",
      "data list is loading 200000\n",
      "data list loading finished..\n",
      "236197\n",
      "Outputs: ['data', 'data_p', 'label', 'clip_markers']\n"
     ]
    }
   ],
   "source": [
    "path_Imageroot = './'\n",
    "test_frames = 16\n",
    "test_buffer = 1\n",
    "\n",
    "video_testInstance = videoRead()\n",
    "video_testInstance.initialize('test', False, test_buffer, test_frames, 3, 160, 80, path_Imageroot)\n",
    "\n",
    "cmc_root = './experiments/common_tools'\n",
    "sys.path.insert(0,cmc_root)\n",
    "\n",
    "DEPLOY_PATH= 'models/ourNet/lstm_16frames/deploy.prototxt'\n",
    "LSTM_MODELPATH = 'models/Snapshots/lstm_16frames_model/snapshots_lstm_RGB_iter_100000.caffemodel'\n",
    "caffe.set_device(1)\n",
    "caffe.set_mode_gpu()\n",
    "net = caffe.Net(DEPLOY_PATH, LSTM_MODELPATH, caffe.TEST)\n",
    "video_testInstance.readlistFromList(probes, gallerys)\n",
    "video_testInstance.setup()"
   ]
  },
  {
   "cell_type": "code",
   "execution_count": 7,
   "metadata": {
    "collapsed": false
   },
   "outputs": [
    {
     "ename": "NameError",
     "evalue": "name 'key_probe' is not defined",
     "output_type": "error",
     "traceback": [
      "\u001b[1;31m---------------------------------------------------------------------------\u001b[0m",
      "\u001b[1;31mNameError\u001b[0m                                 Traceback (most recent call last)",
      "\u001b[1;32m<ipython-input-7-fb9156f1c5bf>\u001b[0m in \u001b[0;36m<module>\u001b[1;34m()\u001b[0m\n\u001b[0;32m      2\u001b[0m \u001b[0mget_ipython\u001b[0m\u001b[1;33m(\u001b[0m\u001b[1;33m)\u001b[0m\u001b[1;33m.\u001b[0m\u001b[0mmagic\u001b[0m\u001b[1;33m(\u001b[0m\u001b[1;34mu'matplotlib inline'\u001b[0m\u001b[1;33m)\u001b[0m\u001b[1;33m\u001b[0m\u001b[0m\n\u001b[0;32m      3\u001b[0m \u001b[0mindex\u001b[0m \u001b[1;33m=\u001b[0m \u001b[0mnp\u001b[0m\u001b[1;33m.\u001b[0m\u001b[0marange\u001b[0m\u001b[1;33m(\u001b[0m\u001b[1;36m0\u001b[0m\u001b[1;33m,\u001b[0m\u001b[0mtest_frames\u001b[0m\u001b[1;33m,\u001b[0m\u001b[1;36m1\u001b[0m\u001b[1;33m)\u001b[0m\u001b[1;33m\u001b[0m\u001b[0m\n\u001b[1;32m----> 4\u001b[1;33m \u001b[1;32mfor\u001b[0m \u001b[0mkey\u001b[0m \u001b[1;32min\u001b[0m \u001b[0mkey_probe\u001b[0m\u001b[1;33m:\u001b[0m\u001b[1;33m\u001b[0m\u001b[0m\n\u001b[0m\u001b[0;32m      5\u001b[0m         \u001b[0mpredict\u001b[0m \u001b[1;33m=\u001b[0m \u001b[1;33m[\u001b[0m\u001b[1;33m]\u001b[0m\u001b[1;33m\u001b[0m\u001b[0m\n\u001b[0;32m      6\u001b[0m         \u001b[1;32mfor\u001b[0m \u001b[0mkeys\u001b[0m \u001b[1;32min\u001b[0m \u001b[0mkey_gallerys\u001b[0m\u001b[1;33m:\u001b[0m\u001b[1;33m\u001b[0m\u001b[0m\n",
      "\u001b[1;31mNameError\u001b[0m: name 'key_probe' is not defined"
     ]
    }
   ],
   "source": [
    "import matplotlib.pyplot as plt\n",
    "%matplotlib inline\n",
    "index = np.arange(0,test_frames,1)\n",
    "key_probe = probes.keys()\n",
    "key_gallerys = gallerys.keys()\n",
    "for key in key_probe:\n",
    "        predict = []\n",
    "        for keys in key_gallerys:\n",
    "            #print probes[key]\n",
    "            #print gallerys[keys]\n",
    "            video_testInstance.forward(net)\n",
    "            net.forward()\n",
    "            #print \"wrong\"\n",
    "            outScore=net.blobs['softmax_score'].data.reshape((test_frames,2))\n",
    "            #print outScore\n",
    "            similarScore=outScore[:,1]\n",
    "            plt.figure()\n",
    "            plt.subplot(211)\n",
    "            plt.plot(index,similarScore,'b')\n",
    "            plt.title('real_label = %s%s'%(key,keys))\n",
    "            plt.xlabel('frames_index')\n",
    "            plt.ylabel('sim_prob')\n",
    "            #print similarScore\n",
    "        pause()"
   ]
  },
  {
   "cell_type": "code",
   "execution_count": null,
   "metadata": {
    "collapsed": true
   },
   "outputs": [],
   "source": []
  }
 ],
 "metadata": {
  "kernelspec": {
   "display_name": "Python 2",
   "language": "python",
   "name": "python2"
  },
  "language_info": {
   "codemirror_mode": {
    "name": "ipython",
    "version": 2
   },
   "file_extension": ".py",
   "mimetype": "text/x-python",
   "name": "python",
   "nbconvert_exporter": "python",
   "pygments_lexer": "ipython2",
   "version": "2.7.6"
  }
 },
 "nbformat": 4,
 "nbformat_minor": 0
}
