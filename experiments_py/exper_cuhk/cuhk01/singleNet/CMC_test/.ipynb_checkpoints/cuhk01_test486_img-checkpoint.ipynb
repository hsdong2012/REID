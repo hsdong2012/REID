{
 "cells": [
  {
   "cell_type": "code",
   "execution_count": 1,
   "metadata": {
    "collapsed": false
   },
   "outputs": [
    {
     "name": "stdout",
     "output_type": "stream",
     "text": [
      "current work dir : /home/maochaojie/work/My_ReID\n"
     ]
    }
   ],
   "source": [
    "import os\n",
    "root = '../../../../../'\n",
    "\n",
    "os.chdir(root)\n",
    "#from experiments.common_tools.cmc import evaluateCMC\n",
    "print 'current work dir : %s'%os.getcwd()\n",
    "caffe_root = 'caffe'\n",
    "commontool_root = 'experiments_py/common_tools'\n",
    "datalayer_root = 'experiments_py/exper_cuhk/cuhk01/'\n",
    "import sys\n",
    "sys.path.insert(0,caffe_root+'/python')\n",
    "sys.path.insert(0,commontool_root)\n",
    "sys.path.insert(0,datalayer_root)\n",
    "import caffe\n",
    "from cuhk01_SeqIn import *\n",
    "from cmc_tools import *\n",
    "import numpy as np\n",
    "import time"
   ]
  },
  {
   "cell_type": "code",
   "execution_count": 2,
   "metadata": {
    "collapsed": true
   },
   "outputs": [],
   "source": [
    "def readList(name_list,name_dict,sequence_flag):\n",
    "    import random\n",
    "    # import os\n",
    "    probes = {}\n",
    "    gallerys = {}\n",
    "    if sequence_flag == False:\n",
    "        \n",
    "        for key in name_list:\n",
    "            length = len(name_dict[key][:])\n",
    "            probe_index = random.randint(0,length-1)\n",
    "            if not probes.has_key(key):\n",
    "                probes[key] = []\n",
    "            probes[key].append(name_dict[key][probe_index])\n",
    "            gallery_index = random.randint(0,length-1)\n",
    "            while probe_index == gallery_index:\n",
    "                gallery_index = random.randint(0,length-1)\n",
    "            if not gallerys.has_key(key):\n",
    "                gallerys[key] = []\n",
    "            gallerys[key].append(name_dict[key][gallery_index])\n",
    "    else:\n",
    "        for key in name_list:\n",
    "            length = len(name_dict[key][:])\n",
    "            probe_index = random.randint(0,length-1)\n",
    "            if not probes.has_key(key):\n",
    "                probes[key] = []\n",
    "            probes[key].append(name_dict[key][probe_index])\n",
    "            buffer = []\n",
    "            buffer = name_dict[key][:]\n",
    "            del buffer[probe_index]\n",
    "            if not gallerys.has_key(key):\n",
    "                gallerys[key] = []\n",
    "            gallerys[key].append(buffer) \n",
    "        \n",
    "    if len(probes)!=len(gallerys):\n",
    "        print('something wrong! list length does not match!/n')\n",
    "        return 0\n",
    "    else:\n",
    "        return probes,gallerys"
   ]
  },
  {
   "cell_type": "code",
   "execution_count": 3,
   "metadata": {
    "collapsed": false
   },
   "outputs": [
    {
     "name": "stdout",
     "output_type": "stream",
     "text": [
      "dataset/cuhk01/exp_set/testid486_set02_test.txt\n",
      "486\n"
     ]
    }
   ],
   "source": [
    "DATA_DIR='dataset/cuhk01/cuhk01/'\n",
    "file_list_a=os.listdir(DATA_DIR)\n",
    "name_dict={}\n",
    "\n",
    "for name in file_list_a:\n",
    "    if name[-3:]=='png':\n",
    "        id = name[:4]\n",
    "        if not name_dict.has_key(id):\n",
    "            name_dict[id]=[]\n",
    "        name_dict[id].append(DATA_DIR+name)\n",
    "\n",
    "\n",
    "cmcDict={}\n",
    "cmc_list=[]\n",
    "\n",
    "# choose test ids:\n",
    "test_id_number = 486\n",
    "set_no = 2\n",
    "phase = 'test'\n",
    "filename_test = 'dataset/cuhk01/exp_set/testid%03d_set%02d_%s.txt'%(test_id_number,(set_no),phase)\n",
    "print filename_test\n",
    "\n",
    "file_object = open(filename_test)\n",
    "try:\n",
    "    all_the_text = file_object.read()\n",
    "finally:\n",
    "    file_object.close()\n",
    "\n",
    "test_dict = {}\n",
    "\n",
    "lines = all_the_text.split('\\n')\n",
    "for filename in lines:\n",
    "    if filename!='':\n",
    "        if name_dict.has_key(filename):\n",
    "            test_dict[filename] = name_dict[filename]\n",
    "print len(test_dict)\n",
    "key_list = []\n",
    "for key in test_dict.keys():\n",
    "    key_list.append(key)\n"
   ]
  },
  {
   "cell_type": "code",
   "execution_count": 4,
   "metadata": {
    "collapsed": false
   },
   "outputs": [],
   "source": [
    "#print probes"
   ]
  },
  {
   "cell_type": "code",
   "execution_count": 5,
   "metadata": {
    "collapsed": false
   },
   "outputs": [],
   "source": [
    "#print gallerys\n",
    "#key_probe = probes.keys()\n",
    "#key_gallerys = gallerys.keys()"
   ]
  },
  {
   "cell_type": "code",
   "execution_count": 6,
   "metadata": {
    "collapsed": false
   },
   "outputs": [],
   "source": [
    "batch_size = 160\n",
    "frames_l = 1\n",
    "chnnels = 3\n",
    "height = 160\n",
    "width = 80\n",
    "path_root = './'\n",
    "multylabel = False\n",
    "affine = False\n",
    "balance = False\n",
    "\n",
    "\n",
    "\n",
    "DEPLOY_PATH= 'experiments_py/exper_cuhk/cuhk01/singleNet/deploy.prototxt'\n",
    "LSTM_MODELPATH = 'models/cuhk01/singleNet/funtun_set02_iter_100000.caffemodel'\n",
    "caffe.set_device(1)\n",
    "caffe.set_mode_gpu()\n",
    "net = caffe.Net(DEPLOY_PATH, LSTM_MODELPATH, caffe.TEST)\n",
    "\n"
   ]
  },
  {
   "cell_type": "code",
   "execution_count": 7,
   "metadata": {
    "collapsed": false,
    "scrolled": true
   },
   "outputs": [
    {
     "name": "stdout",
     "output_type": "stream",
     "text": []
    }
   ],
   "source": [
    "start_time = time.time()\n",
    "total_time = 0\n",
    "\n",
    "for i in range(1):\n",
    "    print 'Round %d with rand list:'%i\n",
    "    key_list_shuffle = key_list[:]\n",
    "    random.shuffle(key_list_shuffle)\n",
    "    probes, gallerys=readList(key_list_shuffle[:],name_dict,False)\n",
    "    #print probes\n",
    "    #print gallerys\n",
    "    key_probe = probes.keys()\n",
    "    key_gallerys = gallerys.keys()\n",
    "#     print key_probe\n",
    "#     print key_gallerys\n",
    "    \n",
    "    video_instance = videoReadInput()\n",
    "\n",
    "    video_instance.initialize('test', False, batch_size, frames_l, 3, 160, 80, path_root,'./','./',multylabel,affine,balance,\n",
    "                          [probes,key_probe],[gallerys,key_gallerys])\n",
    "\n",
    "    predictLists=generatePredictList_Batch(net,video_instance,\n",
    "                                                            [probes,key_probe],[gallerys,key_gallerys],frames_l, batch_size)\n",
    "    #print predictLists\n",
    "    #print key_probes\n",
    "    #print key_gallerys\n",
    "    cmc=evaluateCMC(predictLists, key_probe, key_gallerys)\n",
    "    #cmc_max=evaluateCMC(predictLists_max, key_probes, key_gallerys)\n",
    "\n",
    "    cmc_list.append(cmc)\n",
    "    #cmc_list_max.append(cmc_max)\n",
    "    end_time = time.time()\n",
    "    using_time = end_time - start_time\n",
    "    total_time = total_time + using_time\n",
    "    start_time = end_time\n",
    "    time1 = format_time(long(total_time))\n",
    "    print 'Time ellipsing: %d days %d hours %d mins %d seconds \\n' % (\n",
    "        time1['days'], time1['hours'], time1['min'], time1['sec'])\n",
    "    print '%d rounds has been tested' % i\n",
    "    #np.save('predictLists.npy', predictLists)\n",
    "    #np.save('key_probes.npy', key_probes)\n",
    "    #np.save('key_gallerys.npy', key_gallerys)\n",
    "end_time = time.time()\n",
    "using_time = end_time - start_time\n",
    "total_time = total_time + using_time\n",
    "start_time = end_time\n",
    "time1 = format_time(long(total_time))\n",
    "print 'Time ellipsing: %d days %d hours %d mins %d seconds \\n' % (\n",
    "        time1['days'], time1['hours'], time1['min'], time1['sec'])\n",
    "\n",
    "\n"
   ]
  },
  {
   "cell_type": "code",
   "execution_count": 8,
   "metadata": {
    "collapsed": true
   },
   "outputs": [],
   "source": [
    "aver_cmc = np.average(cmc_list[:],axis=0)\n",
    "#aver_cmc_max = np.average(cmc_list[:],axis=0)\n",
    "cmcDict['ours (mean_pooling)'] = aver_cmc\n",
    "#cmcDict['ours (max_pooling)'] = aver_cmc_max"
   ]
  },
  {
   "cell_type": "code",
   "execution_count": 9,
   "metadata": {
    "collapsed": true
   },
   "outputs": [],
   "source": [
    "def plotCMC(cmcDict,pathname):\n",
    "    import matplotlib.pyplot as plt\n",
    "    get_ipython().magic(u'matplotlib inline')   \n",
    "    from matplotlib.legend_handler import HandlerLine2D\n",
    "    import numpy as np\n",
    "\n",
    "    #plot the cmc curve, record CVPR from the pdf paper.cmc[0,4,8,12,16,21,25,29,33,37,41,45,49]\n",
    "    rank2show=25\n",
    "    rankStep=1\n",
    "    cmcIndex=np.arange(0,rank2show,rankStep)   #0,5,10,15,20,25\n",
    "\n",
    "    colorList=['rv-','g^-','bs-','yp-','c*-','mv-','kd-','gs-','b^-']\n",
    "    #start to plot\n",
    "    plt.ioff()\n",
    "    fig = plt.figure(figsize=(6,5),dpi=180)\n",
    "    sortedCmcDict = sorted(cmcDict.items(), key=lambda (k, v): v[1])[::-1]\n",
    "    for idx in range(len(sortedCmcDict)):\n",
    "        cmc_dictList=sortedCmcDict[idx]\n",
    "        cmc_name=cmc_dictList[0]\n",
    "        cmc_list=cmc_dictList[1]\n",
    "        #print cmc_name,\": \",cmc_list\n",
    "        #x for plot\n",
    "        x_point=[item+1 for item in cmcIndex]\n",
    "        x_line=range(rank2show)\n",
    "        x_plot=[temp+1 for temp in x_line]\n",
    "        #start plot\n",
    "        plt.plot(x_plot, cmc_list[x_line],colorList[idx],label=\"%02.02f%% %s\"%(100*cmc_list[0],cmc_name))\n",
    "        plt.plot(x_point,cmc_list[cmcIndex],colorList[idx]+'.')\n",
    "        #plt.legend(loc=4,handler_map={line: HandlerLine2D(numpoints=1)})\n",
    "        #idx of color +1\n",
    "        idx+=1\n",
    "    #something to render\n",
    "\n",
    "    plt.xlabel('Rank')\n",
    "    plt.ylabel('Identification Rate')\n",
    "    plt.xticks(np.arange(0,rank2show+1,5))\n",
    "    plt.yticks(np.arange(0,1.01,0.1))\n",
    "    plt.grid()\n",
    "    plt.legend(loc=4)\n",
    "    plt.savefig(pathname)\n",
    "    plt.show()\n"
   ]
  },
  {
   "cell_type": "code",
   "execution_count": 10,
   "metadata": {
    "collapsed": false
   },
   "outputs": [],
   "source": [
    "#cmcDict={}\n",
    "save_root = 'experiments_py/exper_cuhk/cuhk01/singleNet/CMC_test/'\n",
    "import scipy.io as sio\n",
    "# data = sio.loadmat('/mnt/share/Temp/reid_mat/cuhk01_100ID.mat')['data']\n",
    "# from eval_cuhk03 import plotCMC\n",
    "\n",
    "#cmcDict['DCSL (mean_pooling)']=load_list['ours (mean_pooling)']\n",
    "#cmcDict['DCSL (max_pooling)']=load_list['ours (max_pooling)']\n",
    "#plot the dictionary, sorted by rank1 rate\n",
    "\n",
    "save_path = save_root + 'cuhk01_id486_set02_1203.png'"
   ]
  },
  {
   "cell_type": "code",
   "execution_count": 11,
   "metadata": {
    "collapsed": false
   },
   "outputs": [
    {
     "data": {
      "image/png": "[encoded data removed]",
      "text/plain": [
       "<matplotlib.figure.Figure at 0x7f2e540e5cd0>"
      ]
     },
     "metadata": {},
     "output_type": "display_data"
    }
   ],
   "source": [
    "plotCMC(cmcDict,save_path)"
   ]
  },
  {
   "cell_type": "code",
   "execution_count": 12,
   "metadata": {
    "collapsed": true
   },
   "outputs": [],
   "source": [
    "import scipy.io as io\n",
    "io.savemat(save_root + 'CMC_data(single)_set02_1203.mat',{'last':aver_cmc})"
   ]
  },
  {
   "cell_type": "code",
   "execution_count": null,
   "metadata": {
    "collapsed": true
   },
   "outputs": [],
   "source": []
  }
 ],
 "metadata": {
  "kernelspec": {
   "display_name": "Python 2",
   "language": "python",
   "name": "python2"
  },
  "language_info": {
   "codemirror_mode": {
    "name": "ipython",
    "version": 2
   },
   "file_extension": ".py",
   "mimetype": "text/x-python",
   "name": "python",
   "nbconvert_exporter": "python",
   "pygments_lexer": "ipython2",
   "version": "2.7.6"
  }
 },
 "nbformat": 4,
 "nbformat_minor": 0
}
